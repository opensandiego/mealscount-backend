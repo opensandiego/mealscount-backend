{
 "cells": [
  {
   "cell_type": "code",
   "execution_count": null,
   "metadata": {},
   "outputs": [],
   "source": [
    "# First, parse our California school data from a CSV bundled in the repo\n",
    "import csv,codecs\n",
    "\n",
    "i = lambda x: int(x.replace(',','') or 0) # Quick function to make \"123,123\" into an int 123123\n",
    "cupc_csv_file = 'working/jupyter.csv'\n",
    "schools_data = [\n",
    "    r for r in \n",
    "    csv.DictReader(codecs.open(cupc_csv_file)) \n",
    "    if i(r['total_enrolled']) > 0 # ignore 0 student schools\n",
    "] \n",
    "\n",
    "schools_data"
   ]
  },
  {
   "cell_type": "code",
   "execution_count": null,
   "metadata": {},
   "outputs": [],
   "source": [
    "# The CEPSchool and CEPDistrict classes encapsulate our data model\n",
    "# We first take the raw school data and push it into CEPDistrict and CEPSchools,\n",
    "# reducing it to a list of Districts, each with its list of schools\n",
    "from strategies.base import CEPSchool, CEPDistrict\n",
    "districts = {}\n",
    "for row in schools_data:\n",
    "    school = CEPSchool(row)\n",
    "    if row['district'] not in districts:\n",
    "        district = CEPDistrict(row['district'],row['district'])\n",
    "        districts[row['district']] = district\n",
    "    districts[row['district']].add_school(school)\n",
    "districts = list(districts.values())\n",
    "districts.sort()\n",
    "districts"
   ]
  },
  {
   "cell_type": "code",
   "execution_count": null,
   "metadata": {},
   "outputs": [],
   "source": [
    "# The CEPDistrict class represents a School District\n",
    "# it has a list of CEPSchools, and provides some aggregate information\n",
    "\n",
    "# Let's inspect a district\n",
    "district = districts[0]\n",
    "district.name,len(district.schools),district.code,district.overall_isp,district.total_enrolled\n",
    "\n",
    "    "
   ]
  },
  {
   "cell_type": "code",
   "execution_count": null,
   "metadata": {},
   "outputs": [],
   "source": [
    "# We can look at all the schools\n",
    "from IPython.display import display, HTML\n",
    "import tabulate\n",
    "\n",
    "school_table = [('School','Total Enrolled','ISP%','Breakfast','Lunch')] + \\\n",
    "            [ (s.name,s.total_enrolled,('%0.2f%%' % (s.isp*100.0)),s.bfast_served,s.lunch_served, s.active ) \n",
    "              for s in district.schools ]\n",
    "\n",
    "display(HTML(tabulate.tabulate(school_table,tablefmt='html')))\n"
   ]
  },
  {
   "cell_type": "code",
   "execution_count": null,
   "metadata": {},
   "outputs": [],
   "source": [
    "# Or do some charts\n",
    "import matplotlib.pyplot as plt\n",
    "\n",
    "plt.hist([s.total_enrolled for s in district.schools], 20, label='Label')\n",
    "plt.show()"
   ]
  },
  {
   "cell_type": "code",
   "execution_count": null,
   "metadata": {},
   "outputs": [],
   "source": []
  },
  {
   "cell_type": "code",
   "execution_count": null,
   "metadata": {},
   "outputs": [],
   "source": [
    "# Strategies are the algorithms we use to group schools\n",
    "# Each one extends BaseStrategy and overrides the \"create_groups\" method\n",
    "# Here we need to define which strategies we want to run\n",
    "# We pass them into parse_districts as the class name, any parameters for it, and a name\n",
    "# this way we can run the sam strategy in multiple configurations\n",
    "\n",
    "from strategies.naive import OneGroupCEPStrategy,OneToOneCEPStrategy\n",
    "\n",
    "# If we create a strategy, and run its create_groups method with the district as the\n",
    "# incoming parameter, then it fills its own \"groups\" member with the resulting CEPGroup objects\n",
    "#strategy = OneGroupCEPStrategy()\n",
    "strategy = OneToOneCEPStrategy()\n",
    "strategy.create_groups(district)\n",
    "\n",
    "# In the case of OneGroup, we have only 1 group in our list\n",
    "g = strategy.groups[0]\n",
    "g,g.covered_students,g.est_reimbursement()\n",
    "strategy.reimbursement * 180"
   ]
  },
  {
   "cell_type": "code",
   "execution_count": null,
   "metadata": {},
   "outputs": [],
   "source": [
    "# We can see the recommended grouping of schools for the strategy result\n",
    "from strategies.pairs import PairsCEPStrategy\n",
    "strategy = PairsCEPStrategy()\n",
    "\n",
    "strategy.create_groups(district)\n",
    "\n",
    "school_groupings = [('Group','School','Group ISP','School ISP','School Type','School Total Enrolled')]\n",
    "for g in strategy.groups:\n",
    "    for s in g.schools:\n",
    "        school_groupings.append( (g.name,s.name,g.isp,s.isp,s.school_type,s.total_enrolled))\n",
    "display(HTML(tabulate.tabulate(school_groupings,tablefmt='html')))\n"
   ]
  },
  {
   "cell_type": "code",
   "execution_count": null,
   "metadata": {},
   "outputs": [],
   "source": [
    "from strategies.nyc_moda_simulated_annealing import NYCMODASimulatedAnnealingCEPStrategy\n",
    "strategy = NYCMODASimulatedAnnealingCEPStrategy({\"fresh_starts\":50,\"iterations\":1000})\n",
    "groups = strategy.create_groups(district)\n",
    "# Baseline from what mealscount.com does\n",
    "strategy.reimbursement * 180"
   ]
  },
  {
   "cell_type": "code",
   "execution_count": null,
   "metadata": {},
   "outputs": [],
   "source": [
    "# no demonstrable increase\n",
    "#strategy = NYCMODASimulatedAnnealingCEPStrategy({\"fresh_starts\":500,\"iterations\":5000})\n",
    "#groups = strategy.create_groups(district)\n",
    "#Increased iteration, Best Groupings Assuming Avg Count\n",
    "#strategy.reimbursement * 180"
   ]
  },
  {
   "cell_type": "code",
   "execution_count": null,
   "metadata": {},
   "outputs": [],
   "source": [
    "# Custom for Oakland Unified\n",
    "# Build list of school data\n",
    "school_participations = {}\n",
    "for s in schools_data:\n",
    "    school_participations[s['school_code']] = {\n",
    "        'bfast':int(s['daily_breakfast_served']),\n",
    "        'lunch':int(s['daily_lunch_served']),\n",
    "        'free':float(s['% free'].rstrip('%'))/100,\n",
    "        'reduced':float(s['% reduced'].rstrip('%'))/100,\n",
    "    }\n",
    "school_participations[0]"
   ]
  },
  {
   "cell_type": "code",
   "execution_count": null,
   "metadata": {},
   "outputs": [],
   "source": [
    "for s in district.schools:\n",
    "    sdata = school_participations[s.code]\n",
    "    s.bfast_served = round(s.total_enrolled * (sdata['free']+sdata['reduced']))\n",
    "    s.lunch_served = round(s.total_enrolled * (sdata['free']+sdata['reduced']))\n",
    "strategy = NYCMODASimulatedAnnealingCEPStrategy({\"fresh_starts\":50,\"iterations\":1000})\n",
    "groups = strategy.create_groups(district)\n",
    "#Increased iteration, Best Groupings, frpm students eat bfast/lunch\n",
    "strategy.reimbursement * 180"
   ]
  },
  {
   "cell_type": "code",
   "execution_count": null,
   "metadata": {},
   "outputs": [],
   "source": [
    "for s in district.schools:\n",
    "    sdata = school_participations[s.code]\n",
    "    s.bfast_served = s.total_enrolled\n",
    "    s.lunch_served = s.total_enrolled\n",
    "strategy = NYCMODASimulatedAnnealingCEPStrategy({\"fresh_starts\":50,\"iterations\":1000})\n",
    "groups = strategy.create_groups(district)\n",
    "#Increased iteration, Best Groupings, all students eat bfast/lunch\n",
    "strategy.reimbursement * 180"
   ]
  },
  {
   "cell_type": "code",
   "execution_count": null,
   "metadata": {},
   "outputs": [],
   "source": [
    "# IMPORTANT: Reset data\n",
    "for s in district.schools:\n",
    "    sdata = school_participations[s.code]\n",
    "    s.bfast_served = sdata['bfast']\n",
    "    s.lunch_served = sdata['lunch']"
   ]
  },
  {
   "cell_type": "code",
   "execution_count": null,
   "metadata": {},
   "outputs": [],
   "source": []
  }
 ],
 "metadata": {
  "kernelspec": {
   "display_name": "Python 3 (ipykernel)",
   "language": "python",
   "name": "python3"
  },
  "language_info": {
   "codemirror_mode": {
    "name": "ipython",
    "version": 3
   },
   "file_extension": ".py",
   "mimetype": "text/x-python",
   "name": "python",
   "nbconvert_exporter": "python",
   "pygments_lexer": "ipython3",
   "version": "3.7.8"
  }
 },
 "nbformat": 4,
 "nbformat_minor": 2
}
