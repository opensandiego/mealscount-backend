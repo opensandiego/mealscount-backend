{
 "cells": [
  {
   "cell_type": "code",
   "execution_count": 1,
   "id": "dbc84907",
   "metadata": {},
   "outputs": [
    {
     "data": {
      "text/plain": [
       "9002"
      ]
     },
     "execution_count": 1,
     "metadata": {},
     "output_type": "execute_result"
    }
   ],
   "source": [
    "import csv,math\n",
    "from IPython.display import display, HTML\n",
    "import tabulate\n",
    "import matplotlib.pyplot as plt\n",
    "\n",
    "%matplotlib inline\n",
    "\n",
    "# In this notebook we compare 2021 submitted groupoings as provided by NKH for California\n",
    "# with optimized groupings done by Meals Count\n",
    "# Comparison is Like-for-Like, as in only schools that were submitted to CEP will be grouped\n",
    "\n",
    "# First, we load ADP data\n",
    "sites = {}\n",
    "for row in csv.DictReader(open(\"working/CA ADP Data 2.csv\")):\n",
    "    sites[row[\"Site_ID\"]] = {\n",
    "        \"district_code\":row[\"Sponsor_ID\"],\n",
    "        \"school_code\": row[\"Site_ID\"],\n",
    "        \"district_name\":row[\"Sponsor_Name\"],\n",
    "        \"school_name\":row[\"Site_Name\"],\n",
    "        \"daily_breakfast_served\":float(row[\"Breakfast_ADP_F\"]) + float(row[\"Breakfast_ADP_R\"]) + float(row[\"Breakfast_ADP_P\"]),\n",
    "        \"daily_lunch_served\":float(row[\"Lunch_ADP_F\"]) + float(row[\"Lunch_ADP_R\"]) + float(row[\"Lunch_ADP_P\"]),\n",
    "        \"adp_enroll\": row[\"Enrollment_Total\"] and float(row[\"Enrollment_Total\"]) or None\n",
    "    }\n",
    "\n",
    "len(sites)"
   ]
  },
  {
   "cell_type": "code",
   "execution_count": 2,
   "id": "1b8d4799",
   "metadata": {},
   "outputs": [
    {
     "data": {
      "text/plain": [
       "(289, 8713)"
      ]
     },
     "execution_count": 2,
     "metadata": {},
     "output_type": "execute_result"
    }
   ],
   "source": [
    "missing_adp_enroll = len([s for s in sites.values() if s['adp_enroll'] == None])\n",
    "missing_adp_enroll,len(sites) - missing_adp_enroll"
   ]
  },
  {
   "cell_type": "code",
   "execution_count": 3,
   "id": "9b4b88d0",
   "metadata": {
    "scrolled": false
   },
   "outputs": [
    {
     "data": {
      "text/plain": [
       "('3185 of 9002 Grouped', '35.381026 %')"
      ]
     },
     "execution_count": 3,
     "metadata": {},
     "output_type": "execute_result"
    }
   ],
   "source": [
    "# Then Load Grouping Data and enrollment/ISP data\n",
    "for row in csv.reader(open(\"working/CA_CEP_2021.csv\")):\n",
    "    if row[2] in sites and row[5]: # skip if no ISP\n",
    "        site = sites[row[2]]\n",
    "        site[\"total_enrolled\"] = int(row[13].replace(\",\",\"\"))\n",
    "        site[\"total_eligible\"] = int(float(row[5].replace(\"%\",\"\"))/100 * site[\"total_enrolled\"])\n",
    "        site[\"grouping\"] = row[10] or row[12] or None\n",
    "        if site[\"adp_enroll\"]:\n",
    "            # If we have enrollment matching the ADP data, use this to create an ADP% and apply to our grouping \n",
    "            # enrollment. Otherwise we are stuck with what we have\n",
    "            site[\"daily_breakfast_served\"] = site[\"daily_breakfast_served\"]/site[\"adp_enroll\"] * site[\"total_enrolled\"]\n",
    "            site[\"daily_lunch_served\"] = site[\"daily_lunch_served\"]/site[\"adp_enroll\"] * site[\"total_enrolled\"]\n",
    "\n",
    "schools = [s for s in sites.values() if s.get(\"grouping\",False)]\n",
    "\"%i of %i Grouped\" % (len(schools),len(sites)),\"%f %%\" % (len(schools)/len(sites) * 100)"
   ]
  },
  {
   "cell_type": "code",
   "execution_count": 4,
   "id": "9eb93374",
   "metadata": {},
   "outputs": [
    {
     "data": {
      "text/plain": [
       "Text(0, 0.5, 'Sites Per District')"
      ]
     },
     "execution_count": 4,
     "metadata": {},
     "output_type": "execute_result"
    },
    {
     "data": {
      "image/png": "[encoded data removed]",
      "text/plain": [
       "<Figure size 432x288 with 1 Axes>"
      ]
     },
     "metadata": {
      "needs_background": "light"
     },
     "output_type": "display_data"
    }
   ],
   "source": [
    "# chart % of sites per district submitted to CEP vs # of overall sites per district\n",
    "\n",
    "overall_districts = {}\n",
    "for site in sites.values():\n",
    "    overall_districts.setdefault(site[\"district_code\"],[])\n",
    "    overall_districts[site[\"district_code\"]].append(site)\n",
    "\n",
    "fig,ax = plt.subplots()\n",
    "ax.scatter(\n",
    "    [int(len([s for s in d if s.get(\"grouping\",False)])/len(d) * 100) for d in overall_districts.values()], # % submitted to CEP per district\n",
    "    [len(d) for d in overall_districts.values()], # overall sites per district\n",
    ")\n",
    "ax.set_xlabel('% submitted to CEP')\n",
    "ax.set_ylabel('Sites Per District')"
   ]
  },
  {
   "cell_type": "code",
   "execution_count": 5,
   "id": "6da96027",
   "metadata": {},
   "outputs": [
    {
     "data": {
      "text/plain": [
       "Text(0, 0.5, 'ISP %')"
      ]
     },
     "execution_count": 5,
     "metadata": {},
     "output_type": "execute_result"
    },
    {
     "data": {
      "image/png": "[encoded data removed]",
      "text/plain": [
       "<Figure size 432x288 with 1 Axes>"
      ]
     },
     "metadata": {
      "needs_background": "light"
     },
     "output_type": "display_data"
    }
   ],
   "source": [
    "fig,ax = plt.subplots()\n",
    "ax.scatter(\n",
    "    [(s[\"daily_lunch_served\"]/s[\"total_enrolled\"] * 100) for s in schools], # Lunch ADP %\n",
    "    [(s[\"total_eligible\"]/s[\"total_enrolled\"] * 100.0) for s in schools], # ISP\n",
    ")\n",
    "ax.set_xlabel('Luch ADP %')\n",
    "ax.set_ylabel('ISP %')\n",
    "#plt.hist([(s[\"daily_lunch_served\"]/s[\"total_enrolled\"] * 100) for s in schools], 20, label='Lunch ADP')\n",
    "#plt.show()"
   ]
  },
  {
   "cell_type": "code",
   "execution_count": 6,
   "id": "26d15049",
   "metadata": {},
   "outputs": [
    {
     "data": {
      "text/plain": [
       "(73.12374789734832, 46.46360890861966)"
      ]
     },
     "execution_count": 6,
     "metadata": {},
     "output_type": "execute_result"
    }
   ],
   "source": [
    "upsidedown = [s for s in schools if s[\"total_enrolled\"] <= s[\"daily_lunch_served\"]]\n",
    "\"%i of %i schools have more lunches than enrolled\" % (len(upsidedown),len(schools))\n",
    "\n",
    "sum([(s[\"daily_lunch_served\"]/s[\"total_enrolled\"] * 100) for s in schools])/len(schools),sum([(s[\"daily_breakfast_served\"]/s[\"total_enrolled\"] * 100) for s in schools])/len(schools)"
   ]
  },
  {
   "cell_type": "code",
   "execution_count": 7,
   "id": "8c4b2ff9",
   "metadata": {},
   "outputs": [
    {
     "data": {
      "text/plain": [
       "'132 of 3185 schools have more lunches than enrolled and have mismatched enrollment data'"
      ]
     },
     "execution_count": 7,
     "metadata": {},
     "output_type": "execute_result"
    }
   ],
   "source": [
    "upsidedown_mismatch = [s for s in schools if s[\"total_enrolled\"] <= s[\"daily_lunch_served\"] and s[\"adp_enroll\"] == None]\n",
    "\"%i of %i schools have more lunches than enrolled and have mismatched enrollment data\" % (len(upsidedown),len(schools))"
   ]
  },
  {
   "cell_type": "code",
   "execution_count": 8,
   "id": "43623a20",
   "metadata": {},
   "outputs": [],
   "source": [
    "annual = lambda x: \"${:,} / yr\".format(int(x * 180))"
   ]
  },
  {
   "cell_type": "code",
   "execution_count": 9,
   "id": "c8994608",
   "metadata": {},
   "outputs": [
    {
     "data": {
      "text/plain": [
       "(254, 3185)"
      ]
     },
     "execution_count": 9,
     "metadata": {},
     "output_type": "execute_result"
    }
   ],
   "source": [
    "# Build our CEP District for San Diego as a test case\n",
    "from strategies.base import CEPSchool,CEPDistrict\n",
    "\n",
    "districts = {}\n",
    "for s in schools:\n",
    "    school = CEPSchool(s)\n",
    "    if s[\"district_code\"] not in districts:\n",
    "        districts[s[\"district_code\"]] = CEPDistrict(s[\"district_name\"],s[\"district_code\"])\n",
    "    districts[s[\"district_code\"]].add_school(school)\n",
    "districts = list(districts.values())\n",
    "districts.sort(key=lambda d:len(d.schools))\n",
    "\n",
    "len(districts),len(schools)"
   ]
  },
  {
   "cell_type": "code",
   "execution_count": 10,
   "id": "7f63a37c",
   "metadata": {},
   "outputs": [
    {
     "data": {
      "text/plain": [
       "('San Diego Unified School District',\n",
       " 133,\n",
       " '3768338',\n",
       " 0.44208626655530364,\n",
       " 67048)"
      ]
     },
     "execution_count": 10,
     "metadata": {},
     "output_type": "execute_result"
    }
   ],
   "source": [
    "district = [d for d in districts if \"San Diego\" in d.name][0]\n",
    "district.name,len(district.schools),district.code,district.overall_isp,district.total_enrolled"
   ]
  },
  {
   "cell_type": "code",
   "execution_count": 11,
   "id": "d36d7e67",
   "metadata": {
    "scrolled": false
   },
   "outputs": [
    {
     "data": {
      "text/html": [
       "<table>\n",
       "<tbody>\n",
       "<tr><td>School                            </td><td>Total Enrolled</td><td>ISP%  </td><td>Breakfast</td><td>Lunch</td><td>Orig Grouping</td><td>%Lunch ADP</td></tr>\n",
       "<tr><td>WALKER ELEMENTARY                 </td><td>434           </td><td>50.46%</td><td>424      </td><td>390  </td><td>G1           </td><td>89.86%    </td></tr>\n",
       "<tr><td>Madison High                      </td><td>932           </td><td>37.77%</td><td>309      </td><td>308  </td><td>G2           </td><td>33.05%    </td></tr>\n",
       "<tr><td>ANGIER ELEMENTARY                 </td><td>419           </td><td>22.43%</td><td>70       </td><td>220  </td><td>G2           </td><td>52.51%    </td></tr>\n",
       "<tr><td>King-Chavez Academy of Excellence </td><td>277           </td><td>48.74%</td><td>254      </td><td>248  </td><td>G3           </td><td>89.53%    </td></tr>\n",
       "<tr><td>CROWN POINT ELEMENTARY            </td><td>273           </td><td>28.21%</td><td>77       </td><td>151  </td><td>G2           </td><td>55.31%    </td></tr>\n",
       "<tr><td>EDISON ELEMENTARY                 </td><td>366           </td><td>69.40%</td><td>385      </td><td>383  </td><td>G1           </td><td>104.64%   </td></tr>\n",
       "<tr><td>EMERSON/BANDINI ELEMENTARY        </td><td>411           </td><td>72.02%</td><td>261      </td><td>241  </td><td>G2           </td><td>58.64%    </td></tr>\n",
       "<tr><td>HORTON ELEMENTARY                 </td><td>389           </td><td>80.46%</td><td>391      </td><td>382  </td><td>G1           </td><td>98.20%    </td></tr>\n",
       "<tr><td>OCEAN BEACH ELEMENTARY            </td><td>401           </td><td>29.93%</td><td>69       </td><td>251  </td><td>G2           </td><td>62.59%    </td></tr>\n",
       "<tr><td>McGill School of Success          </td><td>142           </td><td>42.96%</td><td>134      </td><td>112  </td><td>G3           </td><td>78.87%    </td></tr>\n",
       "<tr><td>GARFIELD ELEMENTARY               </td><td>253           </td><td>41.90%</td><td>300      </td><td>256  </td><td>G2           </td><td>101.19%   </td></tr>\n",
       "<tr><td>Mann Middle                       </td><td>824           </td><td>69.66%</td><td>315      </td><td>441  </td><td>G2           </td><td>53.52%    </td></tr>\n",
       "<tr><td>Marston Middle                    </td><td>673           </td><td>24.52%</td><td>48       </td><td>144  </td><td>G2           </td><td>21.40%    </td></tr>\n",
       "<tr><td>MARSHALL ELEMENTARY               </td><td>398           </td><td>64.57%</td><td>412      </td><td>382  </td><td>G2           </td><td>95.98%    </td></tr>\n",
       "<tr><td>ROLANDO PARK ELEMENTARY           </td><td>253           </td><td>47.83%</td><td>266      </td><td>267  </td><td>G1           </td><td>105.53%   </td></tr>\n",
       "<tr><td>Standley Middle                   </td><td>900           </td><td>20.78%</td><td>55       </td><td>255  </td><td>G2           </td><td>28.33%    </td></tr>\n",
       "<tr><td>Knox Middle                       </td><td>574           </td><td>78.05%</td><td>430      </td><td>268  </td><td>G1           </td><td>46.69%    </td></tr>\n",
       "<tr><td>SANDBURG ELEMENTARY               </td><td>512           </td><td>23.05%</td><td>50       </td><td>256  </td><td>G2           </td><td>50.00%    </td></tr>\n",
       "<tr><td>CHAVEZ ELEMENTARY                 </td><td>466           </td><td>56.01%</td><td>456      </td><td>478  </td><td>G1           </td><td>102.58%   </td></tr>\n",
       "<tr><td>BURBANK ELEMENTARY                </td><td>365           </td><td>55.62%</td><td>364      </td><td>344  </td><td>G1           </td><td>94.25%    </td></tr>\n",
       "<tr><td>Oak Park Elementary               </td><td>535           </td><td>44.86%</td><td>517      </td><td>503  </td><td>G1           </td><td>94.02%    </td></tr>\n",
       "<tr><td>Bethune K-8                       </td><td>564           </td><td>31.03%</td><td>74       </td><td>262  </td><td>G2           </td><td>46.45%    </td></tr>\n",
       "<tr><td>Keiller Leadership Academy        </td><td>593           </td><td>38.79%</td><td>109      </td><td>374  </td><td>G3           </td><td>63.07%    </td></tr>\n",
       "<tr><td>TAFT MIDDLE                       </td><td>430           </td><td>38.14%</td><td>65       </td><td>170  </td><td>G2           </td><td>39.53%    </td></tr>\n",
       "<tr><td>Sequoia Elementary                </td><td>185           </td><td>39.46%</td><td>27       </td><td>85   </td><td>G2           </td><td>45.95%    </td></tr>\n",
       "<tr><td>HANCOCK ELEMENTARY                </td><td>655           </td><td>3.36% </td><td>130      </td><td>408  </td><td>G2           </td><td>62.29%    </td></tr>\n",
       "<tr><td>Millennial Tech Middle            </td><td>402           </td><td>76.37%</td><td>79       </td><td>232  </td><td>G2           </td><td>57.71%    </td></tr>\n",
       "<tr><td>CHEROKEE POINT ELEMENTARY         </td><td>306           </td><td>57.19%</td><td>335      </td><td>335  </td><td>G1           </td><td>109.48%   </td></tr>\n",
       "<tr><td>GARFIELD HIGH                     </td><td>224           </td><td>71.88%</td><td>38       </td><td>74   </td><td>G2           </td><td>33.04%    </td></tr>\n",
       "<tr><td>Fay Elementary                    </td><td>517           </td><td>62.48%</td><td>529      </td><td>506  </td><td>G1           </td><td>97.87%    </td></tr>\n",
       "<tr><td>WEGEFORTH ELEMENTARY              </td><td>195           </td><td>34.36%</td><td>85       </td><td>175  </td><td>G1           </td><td>89.74%    </td></tr>\n",
       "<tr><td>Pacific View Leadership Elementary</td><td>237           </td><td>45.99%</td><td>246      </td><td>212  </td><td>G1           </td><td>89.45%    </td></tr>\n",
       "<tr><td>Gompers Preparatory Academy       </td><td>1337          </td><td>46.00%</td><td>301      </td><td>905  </td><td>G3           </td><td>67.69%    </td></tr>\n",
       "<tr><td>HARDY ELEMENTARY                  </td><td>345           </td><td>30.72%</td><td>57       </td><td>181  </td><td>G1           </td><td>52.46%    </td></tr>\n",
       "<tr><td>E3 Civic High                     </td><td>425           </td><td>42.12%</td><td>149      </td><td>273  </td><td>G3           </td><td>64.24%    </td></tr>\n",
       "<tr><td>San Diego Business/Leadership     </td><td>523           </td><td>58.32%</td><td>761      </td><td>943  </td><td>G1           </td><td>180.31%   </td></tr>\n",
       "<tr><td>NORMAL HEIGHTS ELEMENTARY         </td><td>261           </td><td>47.13%</td><td>281      </td><td>230  </td><td>G1           </td><td>88.12%    </td></tr>\n",
       "<tr><td>ENCANTO ELEMENTARY                </td><td>484           </td><td>80.58%</td><td>449      </td><td>462  </td><td>G2           </td><td>95.45%    </td></tr>\n",
       "<tr><td>CADMAN ELEMENTARY                 </td><td>151           </td><td>29.14%</td><td>142      </td><td>101  </td><td>G2           </td><td>66.89%    </td></tr>\n",
       "<tr><td>San Diego Metro Career and Tech   </td><td>137           </td><td>29.93%</td><td>0        </td><td>0    </td><td>G1           </td><td>0.00%     </td></tr>\n",
       "<tr><td>MIRA MESA HIGH                    </td><td>2337          </td><td>21.35%</td><td>132      </td><td>600  </td><td>G2           </td><td>25.67%    </td></tr>\n",
       "<tr><td>JEFFERSON ELEMENTARY              </td><td>390           </td><td>37.95%</td><td>420      </td><td>303  </td><td>G1           </td><td>77.69%    </td></tr>\n",
       "<tr><td>Whittier K-12                     </td><td>48            </td><td>31.25%</td><td>44       </td><td>42   </td><td>G1           </td><td>87.50%    </td></tr>\n",
       "<tr><td>GAGE ELEMENTARY                   </td><td>662           </td><td>21.75%</td><td>35       </td><td>253  </td><td>G2           </td><td>38.22%    </td></tr>\n",
       "<tr><td>PERRY ELEMENTARY                  </td><td>392           </td><td>18.37%</td><td>97       </td><td>274  </td><td>G2           </td><td>69.90%    </td></tr>\n",
       "<tr><td>ADAMS ELEMENTARY                  </td><td>291           </td><td>48.80%</td><td>690      </td><td>508  </td><td>G1           </td><td>174.57%   </td></tr>\n",
       "<tr><td>Roosevelt International Middle    </td><td>825           </td><td>37.94%</td><td>279      </td><td>252  </td><td>G2           </td><td>30.55%    </td></tr>\n",
       "<tr><td>IBARRA ELEMENTARY                 </td><td>421           </td><td>73.40%</td><td>438      </td><td>417  </td><td>G1           </td><td>99.05%    </td></tr>\n",
       "<tr><td>FARB MIDDLE                       </td><td>454           </td><td>15.42%</td><td>67       </td><td>254  </td><td>G2           </td><td>55.95%    </td></tr>\n",
       "<tr><td>HAGE ELEMENTARY                   </td><td>593           </td><td>17.54%</td><td>60       </td><td>286  </td><td>G2           </td><td>48.23%    </td></tr>\n",
       "<tr><td>Audubon K-8                       </td><td>442           </td><td>69.00%</td><td>422      </td><td>347  </td><td>G1           </td><td>78.51%    </td></tr>\n",
       "<tr><td>LANGUAGE ACADEMY                  </td><td>1022          </td><td>23.39%</td><td>94       </td><td>326  </td><td>G1           </td><td>31.90%    </td></tr>\n",
       "<tr><td>CARVER ELEMENTARY                 </td><td>184           </td><td>43.48%</td><td>173      </td><td>168  </td><td>G1           </td><td>91.30%    </td></tr>\n",
       "<tr><td>Health Sciences High              </td><td>615           </td><td>46.34%</td><td>23       </td><td>54   </td><td>G3           </td><td>8.78%     </td></tr>\n",
       "<tr><td>Rodriguez Elementary              </td><td>383           </td><td>64.23%</td><td>348      </td><td>351  </td><td>G2           </td><td>91.64%    </td></tr>\n",
       "<tr><td>FRANKLIN ELEMENTARY               </td><td>383           </td><td>37.08%</td><td>364      </td><td>282  </td><td>G1           </td><td>73.63%    </td></tr>\n",
       "<tr><td>BIRNEY ELEMENTARY                 </td><td>538           </td><td>23.61%</td><td>119      </td><td>330  </td><td>G2           </td><td>61.34%    </td></tr>\n",
       "<tr><td>Lincoln High                      </td><td>1399          </td><td>65.69%</td><td>496      </td><td>612  </td><td>G1           </td><td>43.75%    </td></tr>\n",
       "<tr><td>Montgomery Middle                 </td><td>419           </td><td>55.85%</td><td>166      </td><td>211  </td><td>G1           </td><td>50.36%    </td></tr>\n",
       "<tr><td>ALCOTT ELEMENTARY                 </td><td>196           </td><td>21.43%</td><td>59       </td><td>153  </td><td>G1           </td><td>78.06%    </td></tr>\n",
       "<tr><td>PORTER ELEMENTARY                 </td><td>656           </td><td>63.72%</td><td>331      </td><td>333  </td><td>G1           </td><td>50.76%    </td></tr>\n",
       "<tr><td>WEBSTER ELEMENTARY                </td><td>219           </td><td>72.15%</td><td>226      </td><td>203  </td><td>G2           </td><td>92.69%    </td></tr>\n",
       "<tr><td>Perkins K-8                       </td><td>419           </td><td>81.15%</td><td>411      </td><td>334  </td><td>G2           </td><td>79.71%    </td></tr>\n",
       "<tr><td>Creative Performing and Media Arts</td><td>825           </td><td>51.27%</td><td>347      </td><td>364  </td><td>G1           </td><td>44.12%    </td></tr>\n",
       "<tr><td>Harriet Tubman Village Charter    </td><td>414           </td><td>57.49%</td><td>371      </td><td>302  </td><td>G4           </td><td>72.95%    </td></tr>\n",
       "<tr><td>Sherman Elementary                </td><td>581           </td><td>59.21%</td><td>588      </td><td>540  </td><td>G1           </td><td>92.94%    </td></tr>\n",
       "<tr><td>Challenger Middle                 </td><td>894           </td><td>22.26%</td><td>36       </td><td>265  </td><td>G2           </td><td>29.64%    </td></tr>\n",
       "<tr><td>East Village High                 </td><td>127           </td><td>44.09%</td><td>25       </td><td>52   </td><td>G2           </td><td>40.94%    </td></tr>\n",
       "<tr><td>FLETCHER ELEMENTARY               </td><td>144           </td><td>41.67%</td><td>151      </td><td>142  </td><td>G2           </td><td>98.61%    </td></tr>\n",
       "<tr><td>CHESTERTON ELEMENTARY             </td><td>482           </td><td>18.46%</td><td>47       </td><td>287  </td><td>G2           </td><td>59.54%    </td></tr>\n",
       "<tr><td>LAFAYETTE ELEMENTARY              </td><td>254           </td><td>43.31%</td><td>109      </td><td>217  </td><td>G2           </td><td>85.43%    </td></tr>\n",
       "<tr><td>Wilson Middle                     </td><td>660           </td><td>64.55%</td><td>380      </td><td>314  </td><td>G2           </td><td>47.58%    </td></tr>\n",
       "<tr><td>Kearny College Connections        </td><td>353           </td><td>35.98%</td><td>177      </td><td>557  </td><td>G2           </td><td>157.79%   </td></tr>\n",
       "<tr><td>JOHNSON ELEMENTARY                </td><td>264           </td><td>61.74%</td><td>260      </td><td>252  </td><td>G2           </td><td>95.45%    </td></tr>\n",
       "<tr><td>Clairemont High                   </td><td>900           </td><td>25.00%</td><td>50       </td><td>205  </td><td>G2           </td><td>22.78%    </td></tr>\n",
       "<tr><td>WHITMAN ELEMENTARY                </td><td>106           </td><td>37.74%</td><td>37       </td><td>76   </td><td>G2           </td><td>71.70%    </td></tr>\n",
       "<tr><td>Linda Vista Elementary            </td><td>374           </td><td>56.42%</td><td>430      </td><td>450  </td><td>G1           </td><td>120.32%   </td></tr>\n",
       "<tr><td>MILLER ELEMENTARY                 </td><td>641           </td><td>3.59% </td><td>113      </td><td>359  </td><td>G2           </td><td>56.01%    </td></tr>\n",
       "<tr><td>De Portola Middle                 </td><td>746           </td><td>16.49%</td><td>53       </td><td>213  </td><td>G2           </td><td>28.55%    </td></tr>\n",
       "<tr><td>JONES ELEMENTARY                  </td><td>279           </td><td>17.56%</td><td>33       </td><td>144  </td><td>G2           </td><td>51.61%    </td></tr>\n",
       "<tr><td>Riley/New Dawn                    </td><td>155           </td><td>70.97%</td><td>106      </td><td>93   </td><td>G2           </td><td>60.00%    </td></tr>\n",
       "<tr><td>King-Chavez Community High        </td><td>310           </td><td>50.65%</td><td>62       </td><td>147  </td><td>G3           </td><td>47.42%    </td></tr>\n",
       "<tr><td>Hoover High                       </td><td>2147          </td><td>56.82%</td><td>763      </td><td>943  </td><td>G1           </td><td>43.92%    </td></tr>\n",
       "<tr><td>The O&#x27;Farrell Charter             </td><td>1929          </td><td>34.99%</td><td>1227     </td><td>1290 </td><td>G4           </td><td>66.87%    </td></tr>\n",
       "<tr><td>VALENCIA PARK ELEMENTARY          </td><td>438           </td><td>50.68%</td><td>452      </td><td>453  </td><td>G1           </td><td>103.42%   </td></tr>\n",
       "<tr><td>DEWEY ELEMENTARY                  </td><td>318           </td><td>17.61%</td><td>51       </td><td>194  </td><td>G1           </td><td>61.01%    </td></tr>\n",
       "<tr><td>FOSTER ELEMENTARY                 </td><td>395           </td><td>28.61%</td><td>37       </td><td>196  </td><td>G2           </td><td>49.62%    </td></tr>\n",
       "<tr><td>BOONE ELEMENTARY                  </td><td>378           </td><td>55.82%</td><td>357      </td><td>332  </td><td>G2           </td><td>87.83%    </td></tr>\n",
       "<tr><td>Bandini Elementary                </td><td>282           </td><td>60.64%</td><td>320      </td><td>227  </td><td>G1           </td><td>80.50%    </td></tr>\n",
       "<tr><td>Clark Middle                      </td><td>910           </td><td>64.18%</td><td>408      </td><td>538  </td><td>G2           </td><td>59.12%    </td></tr>\n",
       "<tr><td>ROSS ELEMENTARY                   </td><td>181           </td><td>43.65%</td><td>167      </td><td>164  </td><td>G2           </td><td>90.61%    </td></tr>\n",
       "<tr><td>San Diego SCPA                    </td><td>1313          </td><td>26.88%</td><td>68       </td><td>270  </td><td>G2           </td><td>20.56%    </td></tr>\n",
       "<tr><td>CENTRAL ELEMENTARY                </td><td>586           </td><td>64.85%</td><td>590      </td><td>572  </td><td>G1           </td><td>97.61%    </td></tr>\n",
       "<tr><td>CHOLLAS/MEAD ELEMENTARY           </td><td>546           </td><td>55.68%</td><td>605      </td><td>575  </td><td>G2           </td><td>105.31%   </td></tr>\n",
       "<tr><td>Holly Drive Leadership Academy    </td><td>128           </td><td>57.03%</td><td>135      </td><td>107  </td><td>G3           </td><td>83.59%    </td></tr>\n",
       "<tr><td>ZAMORANO ELEMENTARY               </td><td>955           </td><td>44.19%</td><td>903      </td><td>865  </td><td>G1           </td><td>90.58%    </td></tr>\n",
       "<tr><td>Mission Bay High                  </td><td>1187          </td><td>25.19%</td><td>97       </td><td>312  </td><td>G2           </td><td>26.28%    </td></tr>\n",
       "<tr><td>ROSA PARKS ELEMENTARY             </td><td>823           </td><td>69.99%</td><td>882      </td><td>842  </td><td>G1           </td><td>102.31%   </td></tr>\n",
       "<tr><td>HAMILTON ELEMENTARY               </td><td>451           </td><td>66.08%</td><td>457      </td><td>441  </td><td>G1           </td><td>97.78%    </td></tr>\n",
       "<tr><td>Lindbergh/Schweitzer Elementary   </td><td>269           </td><td>48.33%</td><td>368      </td><td>258  </td><td>G1           </td><td>95.91%    </td></tr>\n",
       "<tr><td>King-Chavez Primary Academy       </td><td>327           </td><td>47.71%</td><td>597      </td><td>588  </td><td>G3           </td><td>179.82%   </td></tr>\n",
       "<tr><td>Crawford High                     </td><td>1117          </td><td>63.12%</td><td>604      </td><td>472  </td><td>G2           </td><td>42.26%    </td></tr>\n",
       "<tr><td>Golden Hill K-8                   </td><td>408           </td><td>53.68%</td><td>400      </td><td>380  </td><td>G1           </td><td>93.14%    </td></tr>\n",
       "<tr><td>BAKER ELEMENTARY                  </td><td>392           </td><td>63.78%</td><td>379      </td><td>365  </td><td>G1           </td><td>93.11%    </td></tr>\n",
       "<tr><td>WASHINGTON ELEMENTARY             </td><td>279           </td><td>45.88%</td><td>265      </td><td>224  </td><td>G1           </td><td>80.29%    </td></tr>\n",
       "<tr><td>Joyner Elementary                 </td><td>467           </td><td>64.67%</td><td>464      </td><td>417  </td><td>G1           </td><td>89.29%    </td></tr>\n",
       "<tr><td>CARSON ELEMENTARY                 </td><td>373           </td><td>51.21%</td><td>384      </td><td>382  </td><td>G2           </td><td>102.41%   </td></tr>\n",
       "<tr><td>Twain High                        </td><td>251           </td><td>53.39%</td><td>31       </td><td>33   </td><td>G2           </td><td>13.15%    </td></tr>\n",
       "<tr><td>Bell Middle                       </td><td>783           </td><td>54.92%</td><td>433      </td><td>349  </td><td>G2           </td><td>44.57%    </td></tr>\n",
       "<tr><td>Lewis Middle                      </td><td>1042          </td><td>25.82%</td><td>52       </td><td>253  </td><td>G2           </td><td>24.28%    </td></tr>\n",
       "<tr><td>WANGENHEIM MIDDLE                 </td><td>818           </td><td>28.73%</td><td>50       </td><td>292  </td><td>G2           </td><td>35.70%    </td></tr>\n",
       "<tr><td>KIMBROUGH ELEMENTARY              </td><td>320           </td><td>72.50%</td><td>351      </td><td>307  </td><td>G1           </td><td>95.94%    </td></tr>\n",
       "<tr><td>BALBOA ELEMENTARY                 </td><td>441           </td><td>69.39%</td><td>430      </td><td>434  </td><td>G2           </td><td>98.41%    </td></tr>\n",
       "<tr><td>ROWAN ELEMENTARY                  </td><td>213           </td><td>37.56%</td><td>218      </td><td>210  </td><td>G1           </td><td>98.59%    </td></tr>\n",
       "<tr><td>Fulton K-8                        </td><td>315           </td><td>54.60%</td><td>345      </td><td>282  </td><td>G1           </td><td>89.52%    </td></tr>\n",
       "<tr><td>PERSHING MIDDLE                   </td><td>745           </td><td>19.33%</td><td>21       </td><td>156  </td><td>G2           </td><td>20.94%    </td></tr>\n",
       "<tr><td>ALBA                              </td><td>27            </td><td>55.56%</td><td>20       </td><td>30   </td><td>G2           </td><td>111.11%   </td></tr>\n",
       "<tr><td>Innovation Middle                 </td><td>434           </td><td>47.70%</td><td>192      </td><td>166  </td><td>G2           </td><td>38.25%    </td></tr>\n",
       "<tr><td>King-Chavez Preparatory Academy   </td><td>346           </td><td>49.13%</td><td>127      </td><td>281  </td><td>G3           </td><td>81.21%    </td></tr>\n",
       "<tr><td>EUCLID ELEMENTARY                 </td><td>447           </td><td>61.30%</td><td>479      </td><td>448  </td><td>G1           </td><td>100.22%   </td></tr>\n",
       "<tr><td>TOLER ELEMENTARY                  </td><td>219           </td><td>26.48%</td><td>68       </td><td>152  </td><td>G2           </td><td>69.41%    </td></tr>\n",
       "<tr><td>FIELD ELEMENTARY                  </td><td>294           </td><td>40.82%</td><td>311      </td><td>229  </td><td>G1           </td><td>77.89%    </td></tr>\n",
       "<tr><td>McKINLEY ELEMENTARY               </td><td>511           </td><td>17.03%</td><td>44       </td><td>188  </td><td>G2           </td><td>36.79%    </td></tr>\n",
       "<tr><td>Preuss School UCSD                </td><td>848           </td><td>54.25%</td><td>263      </td><td>460  </td><td>G3           </td><td>54.25%    </td></tr>\n",
       "<tr><td>PARADISE HILLS ELEMENTARY         </td><td>274           </td><td>42.34%</td><td>282      </td><td>252  </td><td>G1           </td><td>91.97%    </td></tr>\n",
       "<tr><td>CUBBERLEY ELEMENTARY              </td><td>155           </td><td>37.42%</td><td>29       </td><td>92   </td><td>G2           </td><td>59.35%    </td></tr>\n",
       "<tr><td>Darnall Charter                   </td><td>610           </td><td>52.46%</td><td>526      </td><td>517  </td><td>G3           </td><td>84.75%    </td></tr>\n",
       "<tr><td>CLAY ELEMENTARY                   </td><td>349           </td><td>52.15%</td><td>363      </td><td>293  </td><td>G1           </td><td>83.95%    </td></tr>\n",
       "<tr><td>America&#x27;s Finest Charter          </td><td>406           </td><td>67.00%</td><td>321      </td><td>358  </td><td>G3           </td><td>88.18%    </td></tr>\n",
       "<tr><td>John Muir Language Academy        </td><td>189           </td><td>39.68%</td><td>36       </td><td>104  </td><td>G2           </td><td>55.03%    </td></tr>\n",
       "<tr><td>FLORENCE ELEMENTARY               </td><td>228           </td><td>35.53%</td><td>113      </td><td>211  </td><td>G2           </td><td>92.54%    </td></tr>\n",
       "<tr><td>PENN ELEMENTARY                   </td><td>364           </td><td>36.54%</td><td>337      </td><td>287  </td><td>G1           </td><td>78.85%    </td></tr>\n",
       "<tr><td>FREESE ELEMENTARY                 </td><td>255           </td><td>62.75%</td><td>238      </td><td>219  </td><td>G1           </td><td>85.88%    </td></tr>\n",
       "</tbody>\n",
       "</table>"
      ],
      "text/plain": [
       "<IPython.core.display.HTML object>"
      ]
     },
     "metadata": {},
     "output_type": "display_data"
    }
   ],
   "source": [
    "# View San Diego school data\n",
    "\n",
    "school_table = [('School','Total Enrolled','ISP%','Breakfast','Lunch','Orig Grouping','%Lunch ADP')] + \\\n",
    "            [ (\n",
    "                s.name,\n",
    "                s.total_enrolled,\n",
    "                ('%0.2f%%' % (s.isp*100.0)),\n",
    "                s.bfast_served,\n",
    "                s.lunch_served, \n",
    "                sites.get(s.code).get(\"grouping\"),\n",
    "                '%0.2f%%' % (s.lunch_served/s.total_enrolled * 100),\n",
    "            ) \n",
    "              for s in district.schools ]\n",
    "\n",
    "display(HTML(tabulate.tabulate(school_table,tablefmt='html')))"
   ]
  },
  {
   "cell_type": "code",
   "execution_count": 12,
   "id": "dcd65c57",
   "metadata": {},
   "outputs": [],
   "source": [
    "# Build two strategies: Custom Group to represent what was submitted, and NYCMODA for optimal\n",
    "from strategies.naive import CustomGroupsCEPStrategy\n",
    "\n",
    "# What was submitted to USDA in 2021\n",
    "orig_strategy = CustomGroupsCEPStrategy()\n",
    "orig_strategy.set_groups([('%s-%s'%(s[\"district_code\"],s[\"grouping\"]),s[\"school_code\"]) for s in schools])\n",
    "\n"
   ]
  },
  {
   "cell_type": "code",
   "execution_count": 13,
   "id": "985c1853",
   "metadata": {},
   "outputs": [
    {
     "data": {
      "text/plain": [
       "{'1263024': 416.94,\n",
       " '5472181': 1465.11,\n",
       " '2075580': 195.19,\n",
       " 'GD42': 374.51,\n",
       " '3073643': 640.2,\n",
       " 'GD158': 1628.39,\n",
       " '4369484': 1409.0,\n",
       " 'GD166': 5145.14,\n",
       " '0961952': 1192.26,\n",
       " 'GD49': 97.74,\n",
       " 'GD162': 1853.24,\n",
       " 'GD155': 1142.53,\n",
       " '1563784': 578.69,\n",
       " '1663925': 271.26,\n",
       " '3510355': 9.09,\n",
       " '3310330': 469.79,\n",
       " '0461382': 336.0,\n",
       " '3166894': 82.7,\n",
       " '0261333': 219.06,\n",
       " '1563438': 4877.55,\n",
       " '5472041': 3514.2299999999996,\n",
       " '1262679': 1008.13,\n",
       " '5375028': 900.81,\n",
       " '5471803': 1141.74,\n",
       " '4068833': 808.0,\n",
       " '4570011': 1103.06,\n",
       " '1363081': 185.94,\n",
       " '3773569': 2720.51,\n",
       " '1965078': 3121.04,\n",
       " 'GD43': 1082.61,\n",
       " 'GD214': 2194.67,\n",
       " 'GD264': 1752.81,\n",
       " 'GD144': 2189.95,\n",
       " '2365540': 1627.22,\n",
       " '1964790': 612.52,\n",
       " '3066472': 3366.63,\n",
       " '4570136': 244.35,\n",
       " '1563859': 3822.89,\n",
       " 'GD196': 1586.78,\n",
       " '3367207': 4923.52,\n",
       " '1162653': 0,\n",
       " '3367231': 5620.3099999999995,\n",
       " 'GD59': 0,\n",
       " '5071050': 1813.77,\n",
       " '1062281': 1639.49,\n",
       " '4970706': 366.88,\n",
       " '2866241': 766.93,\n",
       " 'GD420': 1896.41,\n",
       " '2465821': 3376.35,\n",
       " '5271639': 3447.79,\n",
       " '2465698': 724.9,\n",
       " '2766068': 3723.2299999999996,\n",
       " '1663875': 4229.01,\n",
       " '1563834': 3421.17,\n",
       " '4870581': 2721.75,\n",
       " '3675051': 2358.96,\n",
       " '0461408': 1258.44,\n",
       " '2365607': 1236.9199999999998,\n",
       " '3467348': 3198.0,\n",
       " 'GD180': 821.25,\n",
       " '1075598': 7093.4400000000005,\n",
       " '2165458': 4355.76,\n",
       " '1965151': 4571.299999999999,\n",
       " '0561564': 1310.97,\n",
       " '1363115': 7548.82,\n",
       " '3667801': 1724.4499999999998,\n",
       " '1563339': 6695.1900000000005,\n",
       " 'GD514': 3943.84,\n",
       " '1563545': 3237.5,\n",
       " '1563578': 11857.41,\n",
       " '1075408': 4540.66,\n",
       " '3768130': 6032.16,\n",
       " '5572363': 689.3,\n",
       " 'GD168': 3066.45,\n",
       " '2465862': 9703.96,\n",
       " '3767983': 0,\n",
       " '5471902': 6277.09,\n",
       " 'GD157': 3630.02,\n",
       " '1673932': 123.82,\n",
       " '2265532': 280.8,\n",
       " '4569971': 3724.27,\n",
       " '1363107': 3820.5,\n",
       " '1563412': 10760.76,\n",
       " '5075572': 5464.34,\n",
       " '2473619': 4960.16,\n",
       " '1563792': 12836.97,\n",
       " '3667959': 4056.18,\n",
       " '0761754': 6193.289999999999,\n",
       " '2465748': 7381.9400000000005,\n",
       " '1363149': 5090.17,\n",
       " '0461515': 5337.01,\n",
       " '3768106': 3672.61,\n",
       " '4770466': 0,\n",
       " '3367181': 5674.26,\n",
       " '1563461': 9783.630000000001,\n",
       " '1964477': 10229.23,\n",
       " '2766050': 5984.369999999999,\n",
       " '1563560': 13720.41,\n",
       " '1964758': 5998.14,\n",
       " '0461523': 3822.7400000000002,\n",
       " '2365581': 388.00000000000006,\n",
       " 'GD153': 2315.01,\n",
       " '1076778': 7787.16,\n",
       " '3667637': 2256.98,\n",
       " '3773791': 8506.89,\n",
       " '3473973': 2071.88,\n",
       " '4168999': 8255.07,\n",
       " '1175481': 4359.369999999999,\n",
       " '1363073': 13051.619999999999,\n",
       " '2365565': 4131.67,\n",
       " '2475317': 8158.9400000000005,\n",
       " '1563776': 11065.69,\n",
       " '3367199': 10693.76,\n",
       " '5471837': 7932.150000000001,\n",
       " '2766035': 11207.43,\n",
       " '0475507': 4260.63,\n",
       " '5772694': 8648.56,\n",
       " '1075234': 6501.78,\n",
       " '4570110': 3320.6699999999996,\n",
       " '4569989': 1249.41,\n",
       " '5171399': 5173.84,\n",
       " '4569914': 3952.0299999999997,\n",
       " '3768197': 7214.66,\n",
       " '1563800': 7939.120000000001,\n",
       " '1075127': 15118.47,\n",
       " '3467421': 7400.370000000001,\n",
       " '1563842': 11738.07,\n",
       " '1573742': 4599.97,\n",
       " '3066621': 6461.71,\n",
       " '1964246': 11751.17,\n",
       " '5271498': 6244.400000000001,\n",
       " '1663891': 10335.12,\n",
       " '1964279': 6307.6900000000005,\n",
       " '1964642': 8143.46,\n",
       " '0373981': 2953.71,\n",
       " 'GD415': 4790.650000000001,\n",
       " '1964303': 5653.8099999999995,\n",
       " '1563677': 8098.38,\n",
       " '1964295': 9693.54,\n",
       " '1573908': 11439.36,\n",
       " '2465789': 14780.86,\n",
       " '1062240': 3430.7999999999997,\n",
       " '1073999': 11552.060000000001,\n",
       " '3768395': 5940.77,\n",
       " '2866266': 6551.67,\n",
       " '5472249': 11683.36,\n",
       " '1262901': 1942.0500000000002,\n",
       " '5471860': 14751.8,\n",
       " '1275515': 6683.57,\n",
       " '4269229': 7670.01,\n",
       " '3066456': 10688.259999999998,\n",
       " '3375242': 10441.250000000002,\n",
       " '1062125': 7936.01,\n",
       " '0461507': 6929.609999999999,\n",
       " '2773825': 14910.39,\n",
       " '1062364': 12999.78,\n",
       " '1964212': 9838.98,\n",
       " '3467330': 11288.66,\n",
       " '2775440': 12690.72,\n",
       " '5471993': 16100.46,\n",
       " '3667934': 23040.51,\n",
       " '3567470': 12391.21,\n",
       " '3366985': 11958.130000000001,\n",
       " '1563362': 17290.95,\n",
       " '2465631': 14656.86,\n",
       " 'GD116': 7658.529999999999,\n",
       " '0761648': 11657.089999999998,\n",
       " '0461531': 0,\n",
       " '3066589': 20361.78,\n",
       " '3066647': 14053.59,\n",
       " '5672561': 11518.779999999999,\n",
       " '1764022': 10906.2,\n",
       " '5676828': 13102.630000000001,\n",
       " '5475531': 16950.47,\n",
       " '3667827': 2710.73,\n",
       " '3768114': 8053.51,\n",
       " '3768221': 14933.279999999999,\n",
       " '0461549': 7014.889999999999,\n",
       " '3667611': 15650.819999999998,\n",
       " '3367215': 19769.43,\n",
       " '2766159': 19798.260000000002,\n",
       " '1062117': 13988.769999999999,\n",
       " '1563503': 31351.93,\n",
       " '1062414': 21348.08,\n",
       " '5071290': 302.06,\n",
       " '1663917': 14849.980000000003,\n",
       " '1062430': 17426.19,\n",
       " '3673957': 12084.69,\n",
       " '1940709': 0,\n",
       " '1973452': 18988.29,\n",
       " '1363123': 19109.69,\n",
       " '3367249': 27000.91,\n",
       " '4369450': 0,\n",
       " '1363099': 23577.26,\n",
       " '1964816': 23752.08,\n",
       " '1964287': 25591.9,\n",
       " '2765961': 30563.46,\n",
       " '0861820': 8164.26,\n",
       " '1563404': 21685.5,\n",
       " '3675077': 24439.710000000003,\n",
       " '0461424': 8930.050000000001,\n",
       " '3667587': 24960.269999999997,\n",
       " '1964501': 31139.990000000005,\n",
       " '2766142': 26949.329999999994,\n",
       " '3768452': 23786.799999999996,\n",
       " '3675044': 37552.329999999994,\n",
       " '5472231': 22850.489999999998,\n",
       " '3667777': 21932.309999999998,\n",
       " '1964881': 4572.96,\n",
       " '1964873': 26440.740000000005,\n",
       " '3367058': 27963.979999999996,\n",
       " '5171464': 25293.800000000003,\n",
       " '3767991': 32672.100000000002,\n",
       " '1964774': 27919.700000000004,\n",
       " '3667918': 40246.87,\n",
       " '1563529': 70220.33,\n",
       " '4269120': 57208.85999999999,\n",
       " '1964667': 38962.03999999999,\n",
       " '3373676': 55130.48000000001,\n",
       " '5672538': 39413.229999999996,\n",
       " '1062265': 30773.399999999998,\n",
       " '5872736': 29033.149999999998,\n",
       " '5475523': 48904.66,\n",
       " '1073965': 36345.229999999996,\n",
       " '3768098': 20182.22,\n",
       " '3667843': 24210.58,\n",
       " '3667710': 26422.17,\n",
       " 'GD513': 32324.44999999999,\n",
       " '3367082': 57153.83000000001,\n",
       " '3367173': 56298.799999999996,\n",
       " '1964725': 65765.15000000001,\n",
       " '1964857': 54347.3,\n",
       " '3667686': 42058.759999999995,\n",
       " '3667819': 44760.11,\n",
       " '4469799': 40042.70999999999,\n",
       " '2065243': 65919.72000000003,\n",
       " '3667850': 67957.84999999998,\n",
       " '1973437': 55130.270000000004,\n",
       " '3968585': 35491.22000000001,\n",
       " '3367124': 66490.94999999998,\n",
       " '5071167': 46051.909999999996,\n",
       " '5472256': 52221.61999999999,\n",
       " '1964907': 60772.93,\n",
       " '3868478': 30349.050000000007,\n",
       " '1563321': 110161.98000000003,\n",
       " '3476505': 77680.67000000001,\n",
       " '3066670': 135157.36000000004,\n",
       " '3467439': 73200.65000000001,\n",
       " '0161259': 52894.19000000001,\n",
       " '3066522': 65106.62999999999,\n",
       " '3667876': 132854.85,\n",
       " '1062166': 218069.55000000002,\n",
       " '3768338': 112450.53000000001,\n",
       " '1964733': 1042707.9299999999}"
      ]
     },
     "execution_count": 13,
     "metadata": {},
     "output_type": "execute_result"
    }
   ],
   "source": [
    "# Calculate reimbursement for groupings submitted to USDA\n",
    "submitted_reimbursements = {}\n",
    "submitted_group_counts = {}\n",
    "\n",
    "for d in districts:\n",
    "    orig_strategy.create_groups(d)\n",
    "    submitted_reimbursements[d.code] = orig_strategy.reimbursement\n",
    "    submitted_group_counts[d.code] = len([g for g in orig_strategy.groups if len(g.schools)])\n",
    "submitted_reimbursements"
   ]
  },
  {
   "cell_type": "code",
   "execution_count": 14,
   "id": "913a683f",
   "metadata": {},
   "outputs": [
    {
     "data": {
      "application/vnd.jupyter.widget-view+json": {
       "model_id": "9f16f65036934294b5781f8bc9a16f1e",
       "version_major": 2,
       "version_minor": 0
      },
      "text/plain": [
       "VBox(children=(Label(value=''), IntProgress(value=0, max=133), HTML(value='')))"
      ]
     },
     "metadata": {},
     "output_type": "display_data"
    }
   ],
   "source": [
    "import ipywidgets as widgets\n",
    "from IPython.display import display\n",
    "from cep_estimatory import add_strategies\n",
    "import multiprocessing\n",
    "import time\n",
    "\n",
    "t0 = time.time()\n",
    "\n",
    "# SD Only\n",
    "to_eval = [d for d in districts if d == district] # if len(d.schools) < 500]\n",
    "\n",
    "cur = widgets.Label(\"\")\n",
    "out = widgets.HTML(\"\")\n",
    "f = widgets.IntProgress(min=0, max=sum([len(d.schools) for d in to_eval]))\n",
    "x = widgets.VBox([cur,f,out])\n",
    "display(x)\n",
    "\n",
    "from lambda_function import lambda_handler\n",
    "\n",
    "district_map = dict([(d.code,d) for d in to_eval])\n",
    "STRATEGIES = [\n",
    "    \"Pairs\",\n",
    "    \"OneToOne\",\n",
    "    \"Exhaustive\",\n",
    "    \"OneGroup\",\n",
    "    \"Spread\",\n",
    "    \"Binning\",\n",
    "    \"NYCMODA?fresh_starts=50&iterations=1000&ngroups=10\",\n",
    "    \"NYCMODA?fresh_starts=50&iterations=1000&ngroups=10&evaluate_by=schools\",\n",
    "    \"GreedyLP\"]\n",
    "\n",
    "def processor(district):\n",
    "    add_strategies(district,STRATEGIES)\n",
    "    district.run_strategies()\n",
    "    district.evaluate_strategies()\n",
    "    return {\n",
    "        \"code\":district.code,\n",
    "        \"reimb\":district.best_strategy.reimbursement,\n",
    "        \"best\":district.best_strategy.name,\n",
    "        \"groupings\": [g.as_dict() for g in district.best_strategy.groups]\n",
    "    }\n",
    "\n",
    "total_change = 0\n",
    "\n",
    "PROCESSES = multiprocessing.cpu_count() - 1\n",
    "with multiprocessing.Pool(PROCESSES) as pool:\n",
    "    results = [pool.apply_async(processor, (d,)) for d in to_eval]\n",
    "    for r in results:\n",
    "        result = r.get()\n",
    "        _d = district_map[result[\"code\"]]\n",
    "        f.value += len(_d.schools)\n",
    "        change = result[\"reimb\"] - submitted_reimbursements[_d.code]\n",
    "        if change != 0:\n",
    "            out.value += \"%s (%i schools) MC: %s - %0.0f => %0.0f (%0.0f)<br>\" % (\n",
    "                _d.name,\n",
    "                len(_d.schools),\n",
    "                result[\"best\"],\n",
    "                submitted_reimbursements[_d.code],\n",
    "                result[\"reimb\"],\n",
    "                change\n",
    "            )\n",
    "        total_change += change\n",
    "\n",
    "total_time = time.time() - t0"
   ]
  },
  {
   "cell_type": "code",
   "execution_count": 15,
   "id": "25213644",
   "metadata": {},
   "outputs": [
    {
     "data": {
      "text/plain": [
       "'$11,398,210 / yr'"
      ]
     },
     "execution_count": 15,
     "metadata": {},
     "output_type": "execute_result"
    }
   ],
   "source": [
    "\"${:,} / yr\".format(int(total_change * 180))"
   ]
  },
  {
   "cell_type": "code",
   "execution_count": 16,
   "id": "24680bb4",
   "metadata": {
    "scrolled": true
   },
   "outputs": [
    {
     "name": "stdout",
     "output_type": "stream",
     "text": [
      "Top 20 Biggest Changes of 1 districts\n",
      "San Diego Unified School District  (133 schools submitted) $20,241,095 / yr => $31,639,305 / yr +$11,398,210 / yr / yr  +56.3%\n"
     ]
    }
   ],
   "source": [
    "changes = []\n",
    "def m(x): return \"${:,}\".format(int(x))\n",
    "\n",
    "result_data = [r.get() for r in results] \n",
    "\n",
    "for r in result_data:\n",
    "    _d = district_map[r[\"code\"]]\n",
    "    change = r[\"reimb\"] - submitted_reimbursements[_d.code]\n",
    "    if submitted_reimbursements[_d.code] == 0:\n",
    "        pchange = 1.0\n",
    "    else:\n",
    "        pchange = change / submitted_reimbursements[_d.code]\n",
    "    changes.append( (_d,change,pchange,r))\n",
    "changes.sort(key=lambda x:x[1],reverse=True)\n",
    "print(\"Top 20 Biggest Changes of %i districts\" % len(to_eval))\n",
    "for d in changes[:20]:\n",
    "    print(\n",
    "        d[0].name,\n",
    "        \" (%i schools submitted)\" % len(d[0].schools),\n",
    "        annual(submitted_reimbursements[d[0].code]),\"=>\",annual(d[3][\"reimb\"]),\n",
    "        \"+%s / yr\" % annual(d[1]),\" +%0.1f%%\" % (d[2]*100)\n",
    "    )"
   ]
  },
  {
   "cell_type": "code",
   "execution_count": 17,
   "id": "566f6edf",
   "metadata": {},
   "outputs": [
    {
     "data": {
      "text/plain": [
       "(1, 133)"
      ]
     },
     "execution_count": 17,
     "metadata": {},
     "output_type": "execute_result"
    }
   ],
   "source": [
    "len(district_map),sum([len(d.schools) for d in district_map.values()])"
   ]
  },
  {
   "cell_type": "code",
   "execution_count": 18,
   "id": "c7d17afa",
   "metadata": {},
   "outputs": [
    {
     "data": {
      "text/plain": [
       "(254, 1)"
      ]
     },
     "execution_count": 18,
     "metadata": {},
     "output_type": "execute_result"
    }
   ],
   "source": [
    "optimized_reimbursements = [r.get()[\"reimb\"] for r in results]\n",
    "submitted = [r[1] for r in submitted_reimbursements.items()]\n",
    "\n",
    "len(submitted),len(optimized_reimbursements)\n"
   ]
  },
  {
   "cell_type": "code",
   "execution_count": 19,
   "id": "4d72b272",
   "metadata": {},
   "outputs": [
    {
     "data": {
      "text/plain": [
       "('$928,665,360 / yr', '$31,639,305 / yr')"
      ]
     },
     "execution_count": 19,
     "metadata": {},
     "output_type": "execute_result"
    }
   ],
   "source": [
    "annual(sum(submitted_reimbursements.values())),annual(sum(optimized_reimbursements))"
   ]
  },
  {
   "cell_type": "code",
   "execution_count": null,
   "id": "ea5ad4d5",
   "metadata": {},
   "outputs": [],
   "source": []
  },
  {
   "cell_type": "code",
   "execution_count": 20,
   "id": "d0d5f89f",
   "metadata": {},
   "outputs": [
    {
     "data": {
      "text/html": [
       "<table>\n",
       "<tbody>\n",
       "<tr><td>District                         </td><td>District Code</td><td>Schools</td><td>Submitted Schools</td><td>Submitted       </td><td>Optimized       </td><td>%increase</td><td>Algo                                              </td></tr>\n",
       "<tr><td>San Diego Unified School District</td><td>3768338      </td><td>196    </td><td>67%              </td><td>$20,241,095 / yr</td><td>$31,639,305 / yr</td><td>36%      </td><td>NYCMODA?fresh_starts=50&amp;iterations=1000&amp;ngroups=10</td></tr>\n",
       "</tbody>\n",
       "</table>"
      ],
      "text/plain": [
       "<IPython.core.display.HTML object>"
      ]
     },
     "metadata": {},
     "output_type": "display_data"
    }
   ],
   "source": [
    "result_data.sort(key=lambda r: r[\"reimb\"],reverse=True)\n",
    "result_table = [ ('District','District Code','Schools','Submitted Schools','Submitted','Optimized','%increase','Algo') ] + [\n",
    "    (  district_map[r['code']].name,\n",
    "       r['code'],\n",
    "       len(overall_districts[r['code']]),\n",
    "       \"%i%%\" % int(len(district_map[r['code']].schools)/len(overall_districts[r['code']]) * 100), \n",
    "       annual(submitted_reimbursements[r['code']]),\n",
    "       annual(r['reimb']),\n",
    "       r['reimb'] and \"%i%%\" % int((1 - submitted_reimbursements[r['code']]/r['reimb']) * 100) or '',\n",
    "       r['best']\n",
    "    )\n",
    "    for r in result_data\n",
    "]\n",
    "\n",
    "display(HTML(tabulate.tabulate(result_table,tablefmt='html')))"
   ]
  },
  {
   "cell_type": "code",
   "execution_count": 21,
   "id": "dcb42647",
   "metadata": {},
   "outputs": [
    {
     "data": {
      "text/plain": [
       "'$-897,026,054 / yr'"
      ]
     },
     "execution_count": 21,
     "metadata": {},
     "output_type": "execute_result"
    }
   ],
   "source": [
    "annual((sum(optimized_reimbursements) - sum(submitted_reimbursements.values())))"
   ]
  },
  {
   "cell_type": "code",
   "execution_count": 22,
   "id": "8d9f380e",
   "metadata": {},
   "outputs": [
    {
     "data": {
      "text/plain": [
       "(0, '3.65')"
      ]
     },
     "execution_count": 22,
     "metadata": {},
     "output_type": "execute_result"
    }
   ],
   "source": [
    "submitted_reimbursements[\"4770466\"],\"%0.2f\" % (total_time/60)"
   ]
  },
  {
   "cell_type": "markdown",
   "id": "2051d301",
   "metadata": {},
   "source": []
  },
  {
   "cell_type": "code",
   "execution_count": 23,
   "id": "04373cd7",
   "metadata": {},
   "outputs": [
    {
     "data": {
      "text/plain": [
       "<AxesSubplot:>"
      ]
     },
     "execution_count": 23,
     "metadata": {},
     "output_type": "execute_result"
    },
    {
     "data": {
      "image/png": "[encoded data removed]",
      "text/plain": [
       "<Figure size 432x288 with 1 Axes>"
      ]
     },
     "metadata": {},
     "output_type": "display_data"
    }
   ],
   "source": [
    "fig,ax = plt.subplots()\n",
    "ax.pie(\n",
    "    [c[1] for c in changes], labels= [(i<8 and c[0].name or '') for i,c in enumerate(changes)]\n",
    ")\n",
    "ax"
   ]
  },
  {
   "cell_type": "code",
   "execution_count": 24,
   "id": "5c8fcce3",
   "metadata": {},
   "outputs": [
    {
     "data": {
      "text/plain": [
       "Text(0, 0.5, 'number of schools')"
      ]
     },
     "execution_count": 24,
     "metadata": {},
     "output_type": "execute_result"
    },
    {
     "data": {
      "image/png": "[encoded data removed]",
      "text/plain": [
       "<Figure size 432x288 with 1 Axes>"
      ]
     },
     "metadata": {
      "needs_background": "light"
     },
     "output_type": "display_data"
    }
   ],
   "source": [
    "fig,ax = plt.subplots()\n",
    "\n",
    "normal_changes = [ c for c in changes if c[2] < 1.0 ]\n",
    "ax.scatter(\n",
    "    [c[2] for c in normal_changes ],\n",
    "    [len(c[0].schools) for c in normal_changes ],\n",
    ")\n",
    "ax.set_xlabel('% change')\n",
    "ax.set_ylabel('number of schools')"
   ]
  },
  {
   "cell_type": "code",
   "execution_count": 25,
   "id": "c29e97b2",
   "metadata": {},
   "outputs": [
    {
     "ename": "KeyError",
     "evalue": "'1263024'",
     "output_type": "error",
     "traceback": [
      "\u001b[0;31m---------------------------------------------------------------------------\u001b[0m",
      "\u001b[0;31mKeyError\u001b[0m                                  Traceback (most recent call last)",
      "\u001b[0;32m/tmp/ipykernel_11/1437806859.py\u001b[0m in \u001b[0;36m<module>\u001b[0;34m\u001b[0m\n\u001b[1;32m      4\u001b[0m ax.scatter(\n\u001b[1;32m      5\u001b[0m     \u001b[0;34m[\u001b[0m\u001b[0mcnt\u001b[0m \u001b[0;32mfor\u001b[0m \u001b[0mcnt\u001b[0m \u001b[0;32min\u001b[0m \u001b[0msubmitted_group_counts\u001b[0m\u001b[0;34m.\u001b[0m\u001b[0mvalues\u001b[0m\u001b[0;34m(\u001b[0m\u001b[0;34m)\u001b[0m \u001b[0;34m]\u001b[0m\u001b[0;34m,\u001b[0m\u001b[0;34m\u001b[0m\u001b[0;34m\u001b[0m\u001b[0m\n\u001b[0;32m----> 6\u001b[0;31m     \u001b[0;34m[\u001b[0m\u001b[0mlen\u001b[0m\u001b[0;34m(\u001b[0m\u001b[0mdistrict_map\u001b[0m\u001b[0;34m[\u001b[0m\u001b[0mg\u001b[0m\u001b[0;34m]\u001b[0m\u001b[0;34m.\u001b[0m\u001b[0mschools\u001b[0m\u001b[0;34m)\u001b[0m \u001b[0;32mfor\u001b[0m \u001b[0mg\u001b[0m \u001b[0;32min\u001b[0m \u001b[0msubmitted_group_counts\u001b[0m \u001b[0;34m]\u001b[0m\u001b[0;34m,\u001b[0m\u001b[0;34m\u001b[0m\u001b[0;34m\u001b[0m\u001b[0m\n\u001b[0m\u001b[1;32m      7\u001b[0m )\n\u001b[1;32m      8\u001b[0m \u001b[0max\u001b[0m\u001b[0;34m.\u001b[0m\u001b[0mset_xlabel\u001b[0m\u001b[0;34m(\u001b[0m\u001b[0;34m'number of groups'\u001b[0m\u001b[0;34m)\u001b[0m\u001b[0;34m\u001b[0m\u001b[0;34m\u001b[0m\u001b[0m\n",
      "\u001b[0;32m/tmp/ipykernel_11/1437806859.py\u001b[0m in \u001b[0;36m<listcomp>\u001b[0;34m(.0)\u001b[0m\n\u001b[1;32m      4\u001b[0m ax.scatter(\n\u001b[1;32m      5\u001b[0m     \u001b[0;34m[\u001b[0m\u001b[0mcnt\u001b[0m \u001b[0;32mfor\u001b[0m \u001b[0mcnt\u001b[0m \u001b[0;32min\u001b[0m \u001b[0msubmitted_group_counts\u001b[0m\u001b[0;34m.\u001b[0m\u001b[0mvalues\u001b[0m\u001b[0;34m(\u001b[0m\u001b[0;34m)\u001b[0m \u001b[0;34m]\u001b[0m\u001b[0;34m,\u001b[0m\u001b[0;34m\u001b[0m\u001b[0;34m\u001b[0m\u001b[0m\n\u001b[0;32m----> 6\u001b[0;31m     \u001b[0;34m[\u001b[0m\u001b[0mlen\u001b[0m\u001b[0;34m(\u001b[0m\u001b[0mdistrict_map\u001b[0m\u001b[0;34m[\u001b[0m\u001b[0mg\u001b[0m\u001b[0;34m]\u001b[0m\u001b[0;34m.\u001b[0m\u001b[0mschools\u001b[0m\u001b[0;34m)\u001b[0m \u001b[0;32mfor\u001b[0m \u001b[0mg\u001b[0m \u001b[0;32min\u001b[0m \u001b[0msubmitted_group_counts\u001b[0m \u001b[0;34m]\u001b[0m\u001b[0;34m,\u001b[0m\u001b[0;34m\u001b[0m\u001b[0;34m\u001b[0m\u001b[0m\n\u001b[0m\u001b[1;32m      7\u001b[0m )\n\u001b[1;32m      8\u001b[0m \u001b[0max\u001b[0m\u001b[0;34m.\u001b[0m\u001b[0mset_xlabel\u001b[0m\u001b[0;34m(\u001b[0m\u001b[0;34m'number of groups'\u001b[0m\u001b[0;34m)\u001b[0m\u001b[0;34m\u001b[0m\u001b[0;34m\u001b[0m\u001b[0m\n",
      "\u001b[0;31mKeyError\u001b[0m: '1263024'"
     ]
    },
    {
     "data": {
      "image/png": "[encoded data removed]",
      "text/plain": [
       "<Figure size 432x288 with 1 Axes>"
      ]
     },
     "metadata": {
      "needs_background": "light"
     },
     "output_type": "display_data"
    }
   ],
   "source": [
    "fig,ax = plt.subplots()\n",
    "\n",
    "\n",
    "ax.scatter(\n",
    "    [cnt for cnt in submitted_group_counts.values() ],\n",
    "    [len(district_map[g].schools) for g in submitted_group_counts ],\n",
    ")\n",
    "ax.set_xlabel('number of groups')\n",
    "ax.set_ylabel('number of schools')"
   ]
  },
  {
   "cell_type": "code",
   "execution_count": 26,
   "id": "a3424e52",
   "metadata": {},
   "outputs": [
    {
     "data": {
      "text/plain": [
       "Text(0, 0.5, 'number of schools')"
      ]
     },
     "execution_count": 26,
     "metadata": {},
     "output_type": "execute_result"
    },
    {
     "data": {
      "image/png": "[encoded data removed]",
      "text/plain": [
       "<Figure size 432x288 with 1 Axes>"
      ]
     },
     "metadata": {
      "needs_background": "light"
     },
     "output_type": "display_data"
    }
   ],
   "source": [
    "fig,ax = plt.subplots()\n",
    "\n",
    "\n",
    "ax.scatter(\n",
    "    [len(r['groupings']) for r in result_data ],\n",
    "    [len(district_map[r['code']].schools) for r in result_data ],\n",
    ")\n",
    "ax.set_xlabel('number of groups')\n",
    "ax.set_ylabel('number of schools')"
   ]
  },
  {
   "cell_type": "code",
   "execution_count": 27,
   "id": "97cb09ad",
   "metadata": {},
   "outputs": [
    {
     "data": {
      "text/plain": [
       "<strategies.base.CEPDistrict at 0x7f16b421cfd0>"
      ]
     },
     "execution_count": 27,
     "metadata": {},
     "output_type": "execute_result"
    }
   ],
   "source": [
    "district"
   ]
  },
  {
   "cell_type": "code",
   "execution_count": 28,
   "id": "7bb01449",
   "metadata": {},
   "outputs": [
    {
     "data": {
      "text/plain": [
       "{'code': '3768338',\n",
       " 'reimb': 175773.91999999998,\n",
       " 'best': 'NYCMODA?fresh_starts=50&iterations=1000&ngroups=10',\n",
       " 'groupings': [{'name': 'Group 0',\n",
       "   'school_codes': ['37683386059588',\n",
       "    '37683380107177',\n",
       "    '37683383730116',\n",
       "    '37683380114025',\n",
       "    '37683380118851',\n",
       "    '37683386039598',\n",
       "    '37683386093256',\n",
       "    '37683386039713',\n",
       "    '37683386039796',\n",
       "    '37683386109599',\n",
       "    '37683386061980',\n",
       "    '37683386106173',\n",
       "    '37683383734431',\n",
       "    '37683380116939',\n",
       "    '37683386039309',\n",
       "    '37683380111906',\n",
       "    '37683386096051'],\n",
       "   'school_reimbursements': [('37683380111906', 859.04),\n",
       "    ('37683386039309', 436.53),\n",
       "    ('37683386039598', 530.78),\n",
       "    ('37683380118851', 443.5),\n",
       "    ('37683386061980', 1275.63),\n",
       "    ('37683386059588', 1431.93),\n",
       "    ('37683380107177', 1960.99),\n",
       "    ('37683380116939', 662.59),\n",
       "    ('37683386039713', 520.44),\n",
       "    ('37683386096051', 1175.15),\n",
       "    ('37683386109599', 782.48),\n",
       "    ('37683383730116', 303.34),\n",
       "    ('37683380114025', 2161.86),\n",
       "    ('37683386039796', 397.67),\n",
       "    ('37683386106173', 742.06),\n",
       "    ('37683383734431', 895.44),\n",
       "    ('37683386093256', 1032.17)],\n",
       "   'isp': 0.4005,\n",
       "   'free_rate': 0.6408,\n",
       "   'paid_rate': 0.35919999999999996,\n",
       "   'total_eligible': 4024,\n",
       "   'total_enrolled': 10048,\n",
       "   'free_rate_students': 6439.0,\n",
       "   'paid_rate_students': 3609,\n",
       "   'cep_eligible': True,\n",
       "   'est_reimbursement': 15611.600000000002,\n",
       "   'daily_breakfast_served': 3073,\n",
       "   'daily_lunch_served': 4694},\n",
       "  {'name': 'Group 1',\n",
       "   'school_codes': ['37683386040307',\n",
       "    '37683386113211',\n",
       "    '37683386059653',\n",
       "    '37683386059679',\n",
       "    '37683386089049',\n",
       "    '37683383731213',\n",
       "    '37683383732997',\n",
       "    '37683386040281',\n",
       "    '37683386039135',\n",
       "    '37683386039432',\n",
       "    '37683386040018',\n",
       "    '37683386039648',\n",
       "    '37683386040034',\n",
       "    '37683386039457',\n",
       "    '37683380117325',\n",
       "    '37683383731551',\n",
       "    '37683386040224',\n",
       "    '37683386039812',\n",
       "    '37683386040133',\n",
       "    '37683386097844',\n",
       "    '37683386099063'],\n",
       "   'school_reimbursements': [('37683383731213', 569.56),\n",
       "    ('37683386089049', 694.77),\n",
       "    ('37683383732997', 3326.08),\n",
       "    ('37683386039432', 264.3),\n",
       "    ('37683383731551', 1353.4),\n",
       "    ('37683386039457', 1966.18),\n",
       "    ('37683386039648', 667.53),\n",
       "    ('37683380117325', 674.27),\n",
       "    ('37683386113211', 452.51),\n",
       "    ('37683386097844', 783.16),\n",
       "    ('37683386040307', 235.61),\n",
       "    ('37683386040034', 707.67),\n",
       "    ('37683386040018', 1232.97),\n",
       "    ('37683386099063', 712.38),\n",
       "    ('37683386059679', 737.96),\n",
       "    ('37683386040224', 463.28),\n",
       "    ('37683386059653', 417.14),\n",
       "    ('37683386040133', 244.46),\n",
       "    ('37683386040281', 542.27),\n",
       "    ('37683386039812', 1062.65),\n",
       "    ('37683386039135', 632.88)],\n",
       "   'isp': 0.4,\n",
       "   'free_rate': 0.6400000000000001,\n",
       "   'paid_rate': 0.3599999999999999,\n",
       "   'total_eligible': 4500,\n",
       "   'total_enrolled': 11251,\n",
       "   'free_rate_students': 7201.0,\n",
       "   'paid_rate_students': 4050,\n",
       "   'cep_eligible': True,\n",
       "   'est_reimbursement': 17741.03,\n",
       "   'daily_breakfast_served': 3180,\n",
       "   'daily_lunch_served': 5510},\n",
       "  {'name': 'Group 2',\n",
       "   'school_codes': ['37683380124206',\n",
       "    '37683386039499',\n",
       "    '37683386040190',\n",
       "    '37683386039366',\n",
       "    '37683386114375',\n",
       "    '37683386039341',\n",
       "    '37683386039705',\n",
       "    '37683386039655'],\n",
       "   'school_reimbursements': [('37683386039655', 1484.28),\n",
       "    ('37683380124206', 1889.97),\n",
       "    ('37683386039341', 2094.85),\n",
       "    ('37683386040190', 3235.7),\n",
       "    ('37683386039499', 2100.33),\n",
       "    ('37683386039366', 3165.08),\n",
       "    ('37683386114375', 4684.53),\n",
       "    ('37683386039705', 2444.21)],\n",
       "   'isp': 0.6229,\n",
       "   'free_rate': 0.9966400000000001,\n",
       "   'paid_rate': 0.0033599999999999186,\n",
       "   'total_eligible': 2233,\n",
       "   'total_enrolled': 3585,\n",
       "   'free_rate_students': 3573.0,\n",
       "   'paid_rate_students': 12,\n",
       "   'cep_eligible': True,\n",
       "   'est_reimbursement': 21098.949999999997,\n",
       "   'daily_breakfast_served': 3916,\n",
       "   'daily_lunch_served': 3822},\n",
       "  {'name': 'Group 3',\n",
       "   'school_codes': ['37683386039630',\n",
       "    '37683380114041',\n",
       "    '37683380108290',\n",
       "    '37683386039382',\n",
       "    '37683386039887',\n",
       "    '37683386039283',\n",
       "    '37683386117279',\n",
       "    '37683386114300',\n",
       "    '37683386039176',\n",
       "    '37683386039150',\n",
       "    '37683386040257',\n",
       "    '37683386040158',\n",
       "    '37683386039614',\n",
       "    '37683386039143',\n",
       "    '37683386039515',\n",
       "    '37683386040273',\n",
       "    '37683386040091',\n",
       "    '37683386039754',\n",
       "    '37683386039879',\n",
       "    '37683383731130',\n",
       "    '37683380108282',\n",
       "    '37683386040059'],\n",
       "   'school_reimbursements': [('37683386040158', 2998.71),\n",
       "    ('37683383731130', 143.08),\n",
       "    ('37683386039879', 2387.55),\n",
       "    ('37683380108282', 1805.03),\n",
       "    ('37683386039614', 1215.28),\n",
       "    ('37683386039630', 1636.41),\n",
       "    ('37683386039283', 1890.65),\n",
       "    ('37683386039176', 1395.75),\n",
       "    ('37683386039143', 2008.92),\n",
       "    ('37683386039887', 1594.34),\n",
       "    ('37683386039754', 2074.98),\n",
       "    ('37683386040059', 1413.51),\n",
       "    ('37683386117279', 628.51),\n",
       "    ('37683380114041', 2334.11),\n",
       "    ('37683386039382', 3153.88),\n",
       "    ('37683386039150', 1992.67),\n",
       "    ('37683386039515', 2465.2),\n",
       "    ('37683380108290', 2285.85),\n",
       "    ('37683386040091', 1436.78),\n",
       "    ('37683386040257', 2438.98),\n",
       "    ('37683386114300', 2534.7),\n",
       "    ('37683386040273', 1136.49)],\n",
       "   'isp': 0.6116,\n",
       "   'free_rate': 0.9785600000000001,\n",
       "   'paid_rate': 0.021439999999999904,\n",
       "   'total_eligible': 4705,\n",
       "   'total_enrolled': 7693,\n",
       "   'free_rate_students': 7528.0,\n",
       "   'paid_rate_students': 164,\n",
       "   'cep_eligible': True,\n",
       "   'est_reimbursement': 40971.37999999999,\n",
       "   'daily_breakfast_served': 7973,\n",
       "   'daily_lunch_served': 7410},\n",
       "  {'name': 'Group 4',\n",
       "   'school_codes': ['37683386039481',\n",
       "    '37683386040067',\n",
       "    '37683386039853',\n",
       "    '37683380108274',\n",
       "    '37683380119610',\n",
       "    '37683386040109',\n",
       "    '37683380127647',\n",
       "    '37683386039374'],\n",
       "   'school_reimbursements': [('37683386039853', 677.18),\n",
       "    ('37683386040109', 623.89),\n",
       "    ('37683386040067', 801.23),\n",
       "    ('37683386039481', 543.87),\n",
       "    ('37683380108274', 1256.09),\n",
       "    ('37683386039374', 766.91),\n",
       "    ('37683380127647', 867.66),\n",
       "    ('37683380119610', 2620.72)],\n",
       "   'isp': 0.4,\n",
       "   'free_rate': 0.6400000000000001,\n",
       "   'paid_rate': 0.3599999999999999,\n",
       "   'total_eligible': 1618,\n",
       "   'total_enrolled': 4045,\n",
       "   'free_rate_students': 2589.0,\n",
       "   'paid_rate_students': 1456,\n",
       "   'cep_eligible': True,\n",
       "   'est_reimbursement': 8157.550000000001,\n",
       "   'daily_breakfast_served': 1252,\n",
       "   'daily_lunch_served': 2647},\n",
       "  {'name': 'Group 5',\n",
       "   'school_codes': ['37683386106181',\n",
       "    '37683383730371',\n",
       "    '37683386061972',\n",
       "    '37683386096598',\n",
       "    '37683383730181',\n",
       "    '37683380107482'],\n",
       "   'school_reimbursements': [('37683383730181', 0),\n",
       "    ('37683386061972', 0),\n",
       "    ('37683386096598', 0),\n",
       "    ('37683386106181', 0),\n",
       "    ('37683380107482', 0),\n",
       "    ('37683383730371', 0)],\n",
       "   'isp': 0.218,\n",
       "   'free_rate': 0,\n",
       "   'paid_rate': 0,\n",
       "   'total_eligible': 1347,\n",
       "   'total_enrolled': 6178,\n",
       "   'free_rate_students': 0,\n",
       "   'paid_rate_students': 0,\n",
       "   'cep_eligible': False,\n",
       "   'est_reimbursement': 0,\n",
       "   'daily_breakfast_served': 329,\n",
       "   'daily_lunch_served': 1494},\n",
       "  {'name': 'Group 6',\n",
       "   'school_codes': ['37683386039267',\n",
       "    '37683386040083',\n",
       "    '37683386039507',\n",
       "    '37683386106199',\n",
       "    '37683386039358',\n",
       "    '37683386119598',\n",
       "    '37683386040026',\n",
       "    '37683383737962',\n",
       "    '37683386040117',\n",
       "    '37683380111864',\n",
       "    '37683386039556',\n",
       "    '37683386039861',\n",
       "    '37683386039564',\n",
       "    '37683386040265'],\n",
       "   'school_reimbursements': [('37683386119598', 1135.95),\n",
       "    ('37683386040265', 1082.12),\n",
       "    ('37683380111864', 1125.14),\n",
       "    ('37683386039358', 770.99),\n",
       "    ('37683386039507', 1126.22),\n",
       "    ('37683386039556', 1169.48),\n",
       "    ('37683386040026', 2306.84),\n",
       "    ('37683386106199', 3988.99),\n",
       "    ('37683386039861', 1016.57),\n",
       "    ('37683383737962', 279.37),\n",
       "    ('37683386040117', 966.49),\n",
       "    ('37683386039267', 1547.46),\n",
       "    ('37683386039564', 659.19),\n",
       "    ('37683386040083', 442.93)],\n",
       "   'isp': 0.5003,\n",
       "   'free_rate': 0.80048,\n",
       "   'paid_rate': 0.19952000000000003,\n",
       "   'total_eligible': 2275,\n",
       "   'total_enrolled': 4547,\n",
       "   'free_rate_students': 3640.0,\n",
       "   'paid_rate_students': 907,\n",
       "   'cep_eligible': True,\n",
       "   'est_reimbursement': 17617.739999999998,\n",
       "   'daily_breakfast_served': 4081,\n",
       "   'daily_lunch_served': 3771},\n",
       "  {'name': 'Group 7',\n",
       "   'school_codes': ['37683380114033',\n",
       "    '37683386061964',\n",
       "    '37683380118315',\n",
       "    '37683386039788',\n",
       "    '37683386039424',\n",
       "    '37683386039523',\n",
       "    '37683386039978',\n",
       "    '37683386040000',\n",
       "    '37683380108266',\n",
       "    '37683386107056',\n",
       "    '37683380114462',\n",
       "    '37683386059646'],\n",
       "   'school_reimbursements': [('37683380118315', 161.45),\n",
       "    ('37683386039788', 967.03),\n",
       "    ('37683386039523', 1741.47),\n",
       "    ('37683380108266', 1468.77),\n",
       "    ('37683380114033', 1328.13),\n",
       "    ('37683386059646', 1506.13),\n",
       "    ('37683386039978', 522.0),\n",
       "    ('37683380114462', 163.72),\n",
       "    ('37683386040000', 928.72),\n",
       "    ('37683386061964', 4812.03),\n",
       "    ('37683386107056', 701.2),\n",
       "    ('37683386039424', 474.67)],\n",
       "   'isp': 0.402,\n",
       "   'free_rate': 0.6432000000000001,\n",
       "   'paid_rate': 0.3567999999999999,\n",
       "   'total_eligible': 3094,\n",
       "   'total_enrolled': 7697,\n",
       "   'free_rate_students': 4951.0,\n",
       "   'paid_rate_students': 2746,\n",
       "   'cep_eligible': True,\n",
       "   'est_reimbursement': 14775.32,\n",
       "   'daily_breakfast_served': 3328,\n",
       "   'daily_lunch_served': 4198},\n",
       "  {'name': 'Group 8',\n",
       "   'school_codes': ['37683386039168',\n",
       "    '37683386114292',\n",
       "    '37683386039390',\n",
       "    '37683386089064',\n",
       "    '37683386039952',\n",
       "    '37683386039762',\n",
       "    '37683380107052',\n",
       "    '37683386039101',\n",
       "    '37683386039929',\n",
       "    '37683380107094',\n",
       "    '37683380124115'],\n",
       "   'school_reimbursements': [('37683386039762', 2816.34),\n",
       "    ('37683386114292', 1765.41),\n",
       "    ('37683386039929', 1975.64),\n",
       "    ('37683386039390', 1737.75),\n",
       "    ('37683380107094', 2335.47),\n",
       "    ('37683386039952', 2150.01),\n",
       "    ('37683380124115', 1774.32),\n",
       "    ('37683386039101', 3127.29),\n",
       "    ('37683386089064', 2201.4),\n",
       "    ('37683386039168', 2370.83),\n",
       "    ('37683380107052', 4824.37)],\n",
       "   'isp': 0.6237,\n",
       "   'free_rate': 0.9979200000000001,\n",
       "   'paid_rate': 0.0020799999999998597,\n",
       "   'total_eligible': 2881,\n",
       "   'total_enrolled': 4619,\n",
       "   'free_rate_students': 4609.0,\n",
       "   'paid_rate_students': 9,\n",
       "   'cep_eligible': True,\n",
       "   'est_reimbursement': 27078.829999999998,\n",
       "   'daily_breakfast_served': 4978,\n",
       "   'daily_lunch_served': 4922},\n",
       "  {'name': 'Group 9',\n",
       "   'school_codes': ['37683383730363',\n",
       "    '37683386039770',\n",
       "    '37683383730231',\n",
       "    '37683383733698',\n",
       "    '37683386059638',\n",
       "    '37683386039259',\n",
       "    '37683386114060',\n",
       "    '37683383731189',\n",
       "    '37683386039606',\n",
       "    '37683386059703',\n",
       "    '37683386077317',\n",
       "    '37683386039119',\n",
       "    '37683386039572',\n",
       "    '37683386059711'],\n",
       "   'school_reimbursements': [('37683386077317', 1154.33),\n",
       "    ('37683386039606', 1177.88),\n",
       "    ('37683386114060', 1866.68),\n",
       "    ('37683386059638', 692.04),\n",
       "    ('37683386039572', 669.65),\n",
       "    ('37683383730363', 161.86),\n",
       "    ('37683386039119', 455.11),\n",
       "    ('37683386059703', 991.11),\n",
       "    ('37683383733698', 1168.85),\n",
       "    ('37683383730231', 122.43),\n",
       "    ('37683383731189', 1482.02),\n",
       "    ('37683386039770', 1303.98),\n",
       "    ('37683386039259', 970.64),\n",
       "    ('37683386059711', 504.94)],\n",
       "   'isp': 0.4014,\n",
       "   'free_rate': 0.64224,\n",
       "   'paid_rate': 0.35775999999999997,\n",
       "   'total_eligible': 2964,\n",
       "   'total_enrolled': 7385,\n",
       "   'free_rate_students': 4743.0,\n",
       "   'paid_rate_students': 2642,\n",
       "   'cep_eligible': True,\n",
       "   'est_reimbursement': 12721.52,\n",
       "   'daily_breakfast_served': 2863,\n",
       "   'daily_lunch_served': 3622}]}"
      ]
     },
     "execution_count": 28,
     "metadata": {},
     "output_type": "execute_result"
    }
   ],
   "source": [
    "result_data[0]"
   ]
  },
  {
   "cell_type": "code",
   "execution_count": 29,
   "id": "0d74d856",
   "metadata": {},
   "outputs": [],
   "source": [
    "orig_strategy.create_groups(district)"
   ]
  },
  {
   "cell_type": "code",
   "execution_count": 30,
   "id": "d7c0a6de",
   "metadata": {},
   "outputs": [
    {
     "data": {
      "text/plain": [
       "[(<strategies.base.CEPDistrict object at 0x7f16b421cfd0> / Group 3768338-G1 ISP=54% ENROLLED=24180 FREE_RATE=86.83%,\n",
       "  53),\n",
       " (<strategies.base.CEPDistrict object at 0x7f16b421cfd0> / Group 3768338-G2 ISP=37% ENROLLED=34161 FREE_RATE=0.00%,\n",
       "  65),\n",
       " (<strategies.base.CEPDistrict object at 0x7f16b421cfd0> / Group 3768338-G3 ISP=49% ENROLLED=6364 FREE_RATE=78.27%,\n",
       "  13),\n",
       " (<strategies.base.CEPDistrict object at 0x7f16b421cfd0> / Group 3768338-G4 ISP=39% ENROLLED=2343 FREE_RATE=0.00%,\n",
       "  2)]"
      ]
     },
     "execution_count": 30,
     "metadata": {},
     "output_type": "execute_result"
    }
   ],
   "source": [
    "[(g,len(g.schools)) for g in orig_strategy.groups if g.schools]"
   ]
  },
  {
   "cell_type": "code",
   "execution_count": 31,
   "id": "38d5067e",
   "metadata": {},
   "outputs": [
    {
     "data": {
      "text/plain": [
       "112450.53000000001"
      ]
     },
     "execution_count": 31,
     "metadata": {},
     "output_type": "execute_result"
    }
   ],
   "source": [
    "orig_strategy.reimbursement"
   ]
  },
  {
   "cell_type": "code",
   "execution_count": 32,
   "id": "44048570",
   "metadata": {},
   "outputs": [
    {
     "data": {
      "text/plain": [
       "10575006.129999995"
      ]
     },
     "execution_count": 32,
     "metadata": {},
     "output_type": "execute_result"
    }
   ],
   "source": [
    "(result_data[0]['reimb'] - orig_strategy.reimbursement) * 167"
   ]
  },
  {
   "cell_type": "code",
   "execution_count": 36,
   "id": "3bb55b99",
   "metadata": {},
   "outputs": [
    {
     "data": {
      "text/plain": [
       "[<strategies.base.CEPDistrict object at 0x7f16b421cfd0> / Group 0 ISP=40% ENROLLED=10048 FREE_RATE=64.08%,\n",
       " <strategies.base.CEPDistrict object at 0x7f16b421cfd0> / Group 1 ISP=40% ENROLLED=11251 FREE_RATE=64.00%,\n",
       " <strategies.base.CEPDistrict object at 0x7f16b421cfd0> / Group 2 ISP=62% ENROLLED=3585 FREE_RATE=99.66%,\n",
       " <strategies.base.CEPDistrict object at 0x7f16b421cfd0> / Group 3 ISP=61% ENROLLED=7693 FREE_RATE=97.86%,\n",
       " <strategies.base.CEPDistrict object at 0x7f16b421cfd0> / Group 4 ISP=40% ENROLLED=4045 FREE_RATE=64.00%,\n",
       " <strategies.base.CEPDistrict object at 0x7f16b421cfd0> / Group 5 ISP=22% ENROLLED=6178 FREE_RATE=0.00%,\n",
       " <strategies.base.CEPDistrict object at 0x7f16b421cfd0> / Group 6 ISP=50% ENROLLED=4547 FREE_RATE=80.05%,\n",
       " <strategies.base.CEPDistrict object at 0x7f16b421cfd0> / Group 7 ISP=40% ENROLLED=7697 FREE_RATE=64.32%,\n",
       " <strategies.base.CEPDistrict object at 0x7f16b421cfd0> / Group 8 ISP=62% ENROLLED=4619 FREE_RATE=99.79%,\n",
       " <strategies.base.CEPDistrict object at 0x7f16b421cfd0> / Group 9 ISP=40% ENROLLED=7385 FREE_RATE=64.22%]"
      ]
     },
     "execution_count": 36,
     "metadata": {},
     "output_type": "execute_result"
    }
   ],
   "source": [
    "from strategies.base import CEPGroup\n",
    "groups = []\n",
    "i=0\n",
    "for g in result_data[0][\"groupings\"]:\n",
    "    group = CEPGroup(district,g[\"name\"],schools=[s for s in district.schools if s.code in g[\"school_codes\"]])\n",
    "    groups.append(group)\n",
    "    i+=1\n",
    "\n",
    "groups"
   ]
  },
  {
   "cell_type": "code",
   "execution_count": 40,
   "id": "d5af096c",
   "metadata": {},
   "outputs": [
    {
     "data": {
      "text/plain": [
       "[('Standley Middle', 0.2078),\n",
       " ('San Diego Metro Career and Tech', 0.2993),\n",
       " ('MIRA MESA HIGH', 0.2135),\n",
       " ('De Portola Middle', 0.1649),\n",
       " ('San Diego SCPA', 0.2688),\n",
       " ('PERSHING MIDDLE', 0.1933)]"
      ]
     },
     "execution_count": 40,
     "metadata": {},
     "output_type": "execute_result"
    }
   ],
   "source": [
    "[(s.name,s.isp) for s in [g for g in groups if g.est_reimbursement() == 0][0].schools]"
   ]
  },
  {
   "cell_type": "code",
   "execution_count": null,
   "id": "8f0c9d54",
   "metadata": {},
   "outputs": [],
   "source": []
  }
 ],
 "metadata": {
  "kernelspec": {
   "display_name": "Python 3 (ipykernel)",
   "language": "python",
   "name": "python3"
  },
  "language_info": {
   "codemirror_mode": {
    "name": "ipython",
    "version": 3
   },
   "file_extension": ".py",
   "mimetype": "text/x-python",
   "name": "python",
   "nbconvert_exporter": "python",
   "pygments_lexer": "ipython3",
   "version": "3.7.8"
  }
 },
 "nbformat": 4,
 "nbformat_minor": 5
}
