{
 "cells": [
  {
   "cell_type": "code",
   "execution_count": null,
   "id": "dbc84907",
   "metadata": {},
   "outputs": [],
   "source": [
    "import csv,math\n",
    "\n",
    "# In this notebook we compare 2021 submitted groupoings as provided by NKH for California\n",
    "# with optimized groupings done by Meals Count\n",
    "# Comparison is Like-for-Like, as in only schools that were submitted to CEP will be grouped\n",
    "\n",
    "# First, we load ADP data\n",
    "sites = {}\n",
    "for row in csv.DictReader(open(\"working/CA ADP Data.csv\")):\n",
    "    sites[row[\"Site_ID\"]] = {\n",
    "        \"district_code\":row[\"Sponsor_ID\"],\n",
    "        \"school_code\": row[\"Site_ID\"],\n",
    "        \"district_name\":row[\"Sponsor_Name\"],\n",
    "        \"school_name\":row[\"Site_Name\"],\n",
    "        \"daily_breakfast_served\":float(row[\"Breakfast_ADP_F\"]) + float(row[\"Breakfast_ADP_R\"]) + float(row[\"Breakfast_ADP_P\"]),\n",
    "        \"daily_lunch_served\":float(row[\"Lunch_ADP_F\"]) + float(row[\"Lunch_ADP_R\"]) + float(row[\"Lunch_ADP_P\"]),\n",
    "    }\n",
    "\n",
    "len(sites)"
   ]
  },
  {
   "cell_type": "code",
   "execution_count": null,
   "id": "9b4b88d0",
   "metadata": {
    "scrolled": false
   },
   "outputs": [],
   "source": [
    "# Then Load Grouping Data and enrollment/ISP data\n",
    "for row in csv.reader(open(\"working/CA_CEP_2021.csv\")):\n",
    "    if row[2] in sites and row[5]: # skip if no ISP\n",
    "        sites[row[2]][\"total_enrolled\"] = int(row[13].replace(\",\",\"\"))\n",
    "        sites[row[2]][\"total_eligible\"] = int(float(row[5].replace(\"%\",\"\"))/100 * sites[row[2]][\"total_enrolled\"])\n",
    "        sites[row[2]][\"grouping\"] = row[10] or row[12] or None\n",
    "\n",
    "schools = [s for s in sites.values() if s.get(\"grouping\",False)]\n",
    "\"%i of %i Grouped\" % (len(schools),len(sites))"
   ]
  },
  {
   "cell_type": "code",
   "execution_count": null,
   "id": "6da96027",
   "metadata": {},
   "outputs": [],
   "source": [
    "import matplotlib.pyplot as plt\n",
    "\n",
    "plt.hist([(s[\"daily_lunch_served\"]/s[\"total_enrolled\"] * 100) for s in schools], 20, label='Lunch ADP')\n",
    "plt.show()"
   ]
  },
  {
   "cell_type": "code",
   "execution_count": null,
   "id": "26d15049",
   "metadata": {},
   "outputs": [],
   "source": [
    "upsidedown = [s for s in schools if s[\"total_enrolled\"] < s[\"daily_lunch_served\"]]\n",
    "\"%i schools have more lunches than enrolled\" % len(upsidedown)"
   ]
  },
  {
   "cell_type": "code",
   "execution_count": null,
   "id": "c8994608",
   "metadata": {},
   "outputs": [],
   "source": [
    "# Build our CEP District for San Diego as a test case\n",
    "from strategies.base import CEPSchool,CEPDistrict\n",
    "\n",
    "districts = {}\n",
    "for s in schools:\n",
    "    school = CEPSchool(s)\n",
    "    if s[\"district_code\"] not in districts:\n",
    "        districts[s[\"district_code\"]] = CEPDistrict(s[\"district_name\"],s[\"district_code\"])\n",
    "    districts[s[\"district_code\"]].add_school(school)\n",
    "districts = list(districts.values())\n",
    "districts.sort()\n",
    "\n",
    "district = [d for d in districts if \"San Diego\" in d.name][0]\n",
    "district.name,len(district.schools),district.code,district.overall_isp,district.total_enrolled"
   ]
  },
  {
   "cell_type": "code",
   "execution_count": null,
   "id": "d36d7e67",
   "metadata": {},
   "outputs": [],
   "source": [
    "# View San Diego school data\n",
    "from IPython.display import display, HTML\n",
    "import tabulate\n",
    "school_table = [('School','Total Enrolled','ISP%','Breakfast','Lunch','Orig Grouping')] + \\\n",
    "            [ (s.name,s.total_enrolled,('%0.2f%%' % (s.isp*100.0)),s.bfast_served,s.lunch_served, sites.get(s.code).get(\"grouping\") ) \n",
    "              for s in district.schools ]\n",
    "\n",
    "display(HTML(tabulate.tabulate(school_table,tablefmt='html')))"
   ]
  },
  {
   "cell_type": "code",
   "execution_count": null,
   "id": "dcd65c57",
   "metadata": {},
   "outputs": [],
   "source": [
    "# Build two strategies: Custom Group to represent what was submitted, and NYCMODA for optimal\n",
    "from strategies.naive import CustomGroupsCEPStrategy\n",
    "from strategies.nyc_moda_simulated_annealing import NYCMODASimulatedAnnealingCEPStrategy\n",
    "\n",
    "# What was submitted to USDA in 2021\n",
    "orig_strategy = CustomGroupsCEPStrategy()\n",
    "orig_strategy.set_groups([('%s-%s'%(s[\"district_code\"],s[\"grouping\"]),s[\"school_code\"]) for s in schools])\n",
    "\n",
    "# Our standard MealsCount Strategy for large districts\n",
    "mc_strategy = NYCMODASimulatedAnnealingCEPStrategy({\"fresh_starts\":50,\"iterations\":1000})"
   ]
  },
  {
   "cell_type": "code",
   "execution_count": null,
   "id": "985c1853",
   "metadata": {},
   "outputs": [],
   "source": [
    "# Calculate reimbursement for groupings submitted to USDA\n",
    "orig_strategy.create_groups(district)\n",
    "orig_strategy.reimbursement"
   ]
  },
  {
   "cell_type": "code",
   "execution_count": null,
   "id": "913a683f",
   "metadata": {},
   "outputs": [],
   "source": [
    "# Then create groupings and caluclate reimbursement for a more optimal grouping\n",
    "# WARNING this can take a while.\n",
    "mc_strategy.create_groups(district)\n",
    "mc_strategy.reimbursement"
   ]
  },
  {
   "cell_type": "code",
   "execution_count": null,
   "id": "25213644",
   "metadata": {},
   "outputs": [],
   "source": [
    "# What is our difference over the school year?\n",
    "int((mc_strategy.reimbursement - orig_strategy.reimbursement) * 180)"
   ]
  },
  {
   "cell_type": "code",
   "execution_count": null,
   "id": "24680bb4",
   "metadata": {},
   "outputs": [],
   "source": [
    "len(district.schools)"
   ]
  },
  {
   "cell_type": "code",
   "execution_count": null,
   "id": "566f6edf",
   "metadata": {},
   "outputs": [],
   "source": []
  }
 ],
 "metadata": {
  "kernelspec": {
   "display_name": "Python 3 (ipykernel)",
   "language": "python",
   "name": "python3"
  },
  "language_info": {
   "codemirror_mode": {
    "name": "ipython",
    "version": 3
   },
   "file_extension": ".py",
   "mimetype": "text/x-python",
   "name": "python",
   "nbconvert_exporter": "python",
   "pygments_lexer": "ipython3",
   "version": "3.7.8"
  }
 },
 "nbformat": 4,
 "nbformat_minor": 5
}
